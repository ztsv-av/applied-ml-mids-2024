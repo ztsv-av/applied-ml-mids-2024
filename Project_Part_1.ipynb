{
  "cells": [
    {
      "cell_type": "markdown",
      "metadata": {
        "id": "y6XZ55wHbdm5"
      },
      "source": [
        "# Part 1 of the Machine Learning Project\n",
        "\n",
        "## Preliminaries\n",
        "\n",
        "\n",
        "Before satring familiarize yourself with pandas reading the “10 minutes to pandas” tutorial: https://pandas.pydata.org/pandas-docs/stable/user_guide/10min.html\n",
        "\n",
        "Browse through the full pandas user guide when needed: https://pandas.pydata.org/pandas-docs/stable/user_guide/index.html\n",
        "\n",
        "\n",
        "## Load libraries"
      ]
    },
    {
      "cell_type": "code",
      "execution_count": 1,
      "metadata": {
        "id": "L8jsxX6eaxL_"
      },
      "outputs": [],
      "source": [
        "# numpy and pandas for data manipulation\n",
        "import numpy as np\n",
        "import pandas as pd\n",
        "\n",
        "# File system manangement\n",
        "import os\n",
        "\n",
        "# Suppress warnings\n",
        "#import warnings\n",
        "#warnings.filterwarnings('ignore')\n",
        "\n",
        "# matplotlib and seaborn for plotting\n",
        "import matplotlib.pyplot as plt\n",
        "import seaborn as sns\n"
      ]
    },
    {
      "cell_type": "markdown",
      "metadata": {
        "id": "ctTp1HonbYpj"
      },
      "source": [
        "<p><img alt=\"Datasets\" src=\"https://storage.googleapis.com/kaggle-media/competitions/home-credit/home_credit.png\" align=\"left\" hspace=\"10px\" vspace=\"0px\"></p>\n",
        "\n",
        "\n",
        "<h1>Datasets</h1>"
      ]
    },
    {
      "cell_type": "code",
      "execution_count": 52,
      "metadata": {
        "id": "TAo_jy0PhBEY"
      },
      "outputs": [
        {
          "data": {
            "text/html": [
              "<div>\n",
              "<style scoped>\n",
              "    .dataframe tbody tr th:only-of-type {\n",
              "        vertical-align: middle;\n",
              "    }\n",
              "\n",
              "    .dataframe tbody tr th {\n",
              "        vertical-align: top;\n",
              "    }\n",
              "\n",
              "    .dataframe thead th {\n",
              "        text-align: right;\n",
              "    }\n",
              "</style>\n",
              "<table border=\"1\" class=\"dataframe\">\n",
              "  <thead>\n",
              "    <tr style=\"text-align: right;\">\n",
              "      <th></th>\n",
              "      <th>SK_ID_CURR</th>\n",
              "      <th>TARGET</th>\n",
              "      <th>NAME_CONTRACT_TYPE</th>\n",
              "      <th>CODE_GENDER</th>\n",
              "      <th>FLAG_OWN_CAR</th>\n",
              "      <th>FLAG_OWN_REALTY</th>\n",
              "      <th>CNT_CHILDREN</th>\n",
              "      <th>AMT_INCOME_TOTAL</th>\n",
              "      <th>AMT_CREDIT</th>\n",
              "      <th>AMT_ANNUITY</th>\n",
              "      <th>...</th>\n",
              "      <th>FLAG_DOCUMENT_18</th>\n",
              "      <th>FLAG_DOCUMENT_19</th>\n",
              "      <th>FLAG_DOCUMENT_20</th>\n",
              "      <th>FLAG_DOCUMENT_21</th>\n",
              "      <th>AMT_REQ_CREDIT_BUREAU_HOUR</th>\n",
              "      <th>AMT_REQ_CREDIT_BUREAU_DAY</th>\n",
              "      <th>AMT_REQ_CREDIT_BUREAU_WEEK</th>\n",
              "      <th>AMT_REQ_CREDIT_BUREAU_MON</th>\n",
              "      <th>AMT_REQ_CREDIT_BUREAU_QRT</th>\n",
              "      <th>AMT_REQ_CREDIT_BUREAU_YEAR</th>\n",
              "    </tr>\n",
              "  </thead>\n",
              "  <tbody>\n",
              "    <tr>\n",
              "      <th>0</th>\n",
              "      <td>100002</td>\n",
              "      <td>1</td>\n",
              "      <td>Cash loans</td>\n",
              "      <td>M</td>\n",
              "      <td>N</td>\n",
              "      <td>Y</td>\n",
              "      <td>0</td>\n",
              "      <td>202500.0</td>\n",
              "      <td>406597.5</td>\n",
              "      <td>24700.5</td>\n",
              "      <td>...</td>\n",
              "      <td>0</td>\n",
              "      <td>0</td>\n",
              "      <td>0</td>\n",
              "      <td>0</td>\n",
              "      <td>0.0</td>\n",
              "      <td>0.0</td>\n",
              "      <td>0.0</td>\n",
              "      <td>0.0</td>\n",
              "      <td>0.0</td>\n",
              "      <td>1.0</td>\n",
              "    </tr>\n",
              "    <tr>\n",
              "      <th>1</th>\n",
              "      <td>100003</td>\n",
              "      <td>0</td>\n",
              "      <td>Cash loans</td>\n",
              "      <td>F</td>\n",
              "      <td>N</td>\n",
              "      <td>N</td>\n",
              "      <td>0</td>\n",
              "      <td>270000.0</td>\n",
              "      <td>1293502.5</td>\n",
              "      <td>35698.5</td>\n",
              "      <td>...</td>\n",
              "      <td>0</td>\n",
              "      <td>0</td>\n",
              "      <td>0</td>\n",
              "      <td>0</td>\n",
              "      <td>0.0</td>\n",
              "      <td>0.0</td>\n",
              "      <td>0.0</td>\n",
              "      <td>0.0</td>\n",
              "      <td>0.0</td>\n",
              "      <td>0.0</td>\n",
              "    </tr>\n",
              "    <tr>\n",
              "      <th>2</th>\n",
              "      <td>100004</td>\n",
              "      <td>0</td>\n",
              "      <td>Revolving loans</td>\n",
              "      <td>M</td>\n",
              "      <td>Y</td>\n",
              "      <td>Y</td>\n",
              "      <td>0</td>\n",
              "      <td>67500.0</td>\n",
              "      <td>135000.0</td>\n",
              "      <td>6750.0</td>\n",
              "      <td>...</td>\n",
              "      <td>0</td>\n",
              "      <td>0</td>\n",
              "      <td>0</td>\n",
              "      <td>0</td>\n",
              "      <td>0.0</td>\n",
              "      <td>0.0</td>\n",
              "      <td>0.0</td>\n",
              "      <td>0.0</td>\n",
              "      <td>0.0</td>\n",
              "      <td>0.0</td>\n",
              "    </tr>\n",
              "    <tr>\n",
              "      <th>3</th>\n",
              "      <td>100006</td>\n",
              "      <td>0</td>\n",
              "      <td>Cash loans</td>\n",
              "      <td>F</td>\n",
              "      <td>N</td>\n",
              "      <td>Y</td>\n",
              "      <td>0</td>\n",
              "      <td>135000.0</td>\n",
              "      <td>312682.5</td>\n",
              "      <td>29686.5</td>\n",
              "      <td>...</td>\n",
              "      <td>0</td>\n",
              "      <td>0</td>\n",
              "      <td>0</td>\n",
              "      <td>0</td>\n",
              "      <td>NaN</td>\n",
              "      <td>NaN</td>\n",
              "      <td>NaN</td>\n",
              "      <td>NaN</td>\n",
              "      <td>NaN</td>\n",
              "      <td>NaN</td>\n",
              "    </tr>\n",
              "    <tr>\n",
              "      <th>4</th>\n",
              "      <td>100007</td>\n",
              "      <td>0</td>\n",
              "      <td>Cash loans</td>\n",
              "      <td>M</td>\n",
              "      <td>N</td>\n",
              "      <td>Y</td>\n",
              "      <td>0</td>\n",
              "      <td>121500.0</td>\n",
              "      <td>513000.0</td>\n",
              "      <td>21865.5</td>\n",
              "      <td>...</td>\n",
              "      <td>0</td>\n",
              "      <td>0</td>\n",
              "      <td>0</td>\n",
              "      <td>0</td>\n",
              "      <td>0.0</td>\n",
              "      <td>0.0</td>\n",
              "      <td>0.0</td>\n",
              "      <td>0.0</td>\n",
              "      <td>0.0</td>\n",
              "      <td>0.0</td>\n",
              "    </tr>\n",
              "    <tr>\n",
              "      <th>...</th>\n",
              "      <td>...</td>\n",
              "      <td>...</td>\n",
              "      <td>...</td>\n",
              "      <td>...</td>\n",
              "      <td>...</td>\n",
              "      <td>...</td>\n",
              "      <td>...</td>\n",
              "      <td>...</td>\n",
              "      <td>...</td>\n",
              "      <td>...</td>\n",
              "      <td>...</td>\n",
              "      <td>...</td>\n",
              "      <td>...</td>\n",
              "      <td>...</td>\n",
              "      <td>...</td>\n",
              "      <td>...</td>\n",
              "      <td>...</td>\n",
              "      <td>...</td>\n",
              "      <td>...</td>\n",
              "      <td>...</td>\n",
              "      <td>...</td>\n",
              "    </tr>\n",
              "    <tr>\n",
              "      <th>307506</th>\n",
              "      <td>456251</td>\n",
              "      <td>0</td>\n",
              "      <td>Cash loans</td>\n",
              "      <td>M</td>\n",
              "      <td>N</td>\n",
              "      <td>N</td>\n",
              "      <td>0</td>\n",
              "      <td>157500.0</td>\n",
              "      <td>254700.0</td>\n",
              "      <td>27558.0</td>\n",
              "      <td>...</td>\n",
              "      <td>0</td>\n",
              "      <td>0</td>\n",
              "      <td>0</td>\n",
              "      <td>0</td>\n",
              "      <td>NaN</td>\n",
              "      <td>NaN</td>\n",
              "      <td>NaN</td>\n",
              "      <td>NaN</td>\n",
              "      <td>NaN</td>\n",
              "      <td>NaN</td>\n",
              "    </tr>\n",
              "    <tr>\n",
              "      <th>307507</th>\n",
              "      <td>456252</td>\n",
              "      <td>0</td>\n",
              "      <td>Cash loans</td>\n",
              "      <td>F</td>\n",
              "      <td>N</td>\n",
              "      <td>Y</td>\n",
              "      <td>0</td>\n",
              "      <td>72000.0</td>\n",
              "      <td>269550.0</td>\n",
              "      <td>12001.5</td>\n",
              "      <td>...</td>\n",
              "      <td>0</td>\n",
              "      <td>0</td>\n",
              "      <td>0</td>\n",
              "      <td>0</td>\n",
              "      <td>NaN</td>\n",
              "      <td>NaN</td>\n",
              "      <td>NaN</td>\n",
              "      <td>NaN</td>\n",
              "      <td>NaN</td>\n",
              "      <td>NaN</td>\n",
              "    </tr>\n",
              "    <tr>\n",
              "      <th>307508</th>\n",
              "      <td>456253</td>\n",
              "      <td>0</td>\n",
              "      <td>Cash loans</td>\n",
              "      <td>F</td>\n",
              "      <td>N</td>\n",
              "      <td>Y</td>\n",
              "      <td>0</td>\n",
              "      <td>153000.0</td>\n",
              "      <td>677664.0</td>\n",
              "      <td>29979.0</td>\n",
              "      <td>...</td>\n",
              "      <td>0</td>\n",
              "      <td>0</td>\n",
              "      <td>0</td>\n",
              "      <td>0</td>\n",
              "      <td>1.0</td>\n",
              "      <td>0.0</td>\n",
              "      <td>0.0</td>\n",
              "      <td>1.0</td>\n",
              "      <td>0.0</td>\n",
              "      <td>1.0</td>\n",
              "    </tr>\n",
              "    <tr>\n",
              "      <th>307509</th>\n",
              "      <td>456254</td>\n",
              "      <td>1</td>\n",
              "      <td>Cash loans</td>\n",
              "      <td>F</td>\n",
              "      <td>N</td>\n",
              "      <td>Y</td>\n",
              "      <td>0</td>\n",
              "      <td>171000.0</td>\n",
              "      <td>370107.0</td>\n",
              "      <td>20205.0</td>\n",
              "      <td>...</td>\n",
              "      <td>0</td>\n",
              "      <td>0</td>\n",
              "      <td>0</td>\n",
              "      <td>0</td>\n",
              "      <td>0.0</td>\n",
              "      <td>0.0</td>\n",
              "      <td>0.0</td>\n",
              "      <td>0.0</td>\n",
              "      <td>0.0</td>\n",
              "      <td>0.0</td>\n",
              "    </tr>\n",
              "    <tr>\n",
              "      <th>307510</th>\n",
              "      <td>456255</td>\n",
              "      <td>0</td>\n",
              "      <td>Cash loans</td>\n",
              "      <td>F</td>\n",
              "      <td>N</td>\n",
              "      <td>N</td>\n",
              "      <td>0</td>\n",
              "      <td>157500.0</td>\n",
              "      <td>675000.0</td>\n",
              "      <td>49117.5</td>\n",
              "      <td>...</td>\n",
              "      <td>0</td>\n",
              "      <td>0</td>\n",
              "      <td>0</td>\n",
              "      <td>0</td>\n",
              "      <td>0.0</td>\n",
              "      <td>0.0</td>\n",
              "      <td>0.0</td>\n",
              "      <td>2.0</td>\n",
              "      <td>0.0</td>\n",
              "      <td>1.0</td>\n",
              "    </tr>\n",
              "  </tbody>\n",
              "</table>\n",
              "<p>307511 rows × 122 columns</p>\n",
              "</div>"
            ],
            "text/plain": [
              "        SK_ID_CURR  TARGET NAME_CONTRACT_TYPE CODE_GENDER FLAG_OWN_CAR  \\\n",
              "0           100002       1         Cash loans           M            N   \n",
              "1           100003       0         Cash loans           F            N   \n",
              "2           100004       0    Revolving loans           M            Y   \n",
              "3           100006       0         Cash loans           F            N   \n",
              "4           100007       0         Cash loans           M            N   \n",
              "...            ...     ...                ...         ...          ...   \n",
              "307506      456251       0         Cash loans           M            N   \n",
              "307507      456252       0         Cash loans           F            N   \n",
              "307508      456253       0         Cash loans           F            N   \n",
              "307509      456254       1         Cash loans           F            N   \n",
              "307510      456255       0         Cash loans           F            N   \n",
              "\n",
              "       FLAG_OWN_REALTY  CNT_CHILDREN  AMT_INCOME_TOTAL  AMT_CREDIT  \\\n",
              "0                    Y             0          202500.0    406597.5   \n",
              "1                    N             0          270000.0   1293502.5   \n",
              "2                    Y             0           67500.0    135000.0   \n",
              "3                    Y             0          135000.0    312682.5   \n",
              "4                    Y             0          121500.0    513000.0   \n",
              "...                ...           ...               ...         ...   \n",
              "307506               N             0          157500.0    254700.0   \n",
              "307507               Y             0           72000.0    269550.0   \n",
              "307508               Y             0          153000.0    677664.0   \n",
              "307509               Y             0          171000.0    370107.0   \n",
              "307510               N             0          157500.0    675000.0   \n",
              "\n",
              "        AMT_ANNUITY  ...  FLAG_DOCUMENT_18 FLAG_DOCUMENT_19 FLAG_DOCUMENT_20  \\\n",
              "0           24700.5  ...                 0                0                0   \n",
              "1           35698.5  ...                 0                0                0   \n",
              "2            6750.0  ...                 0                0                0   \n",
              "3           29686.5  ...                 0                0                0   \n",
              "4           21865.5  ...                 0                0                0   \n",
              "...             ...  ...               ...              ...              ...   \n",
              "307506      27558.0  ...                 0                0                0   \n",
              "307507      12001.5  ...                 0                0                0   \n",
              "307508      29979.0  ...                 0                0                0   \n",
              "307509      20205.0  ...                 0                0                0   \n",
              "307510      49117.5  ...                 0                0                0   \n",
              "\n",
              "       FLAG_DOCUMENT_21 AMT_REQ_CREDIT_BUREAU_HOUR AMT_REQ_CREDIT_BUREAU_DAY  \\\n",
              "0                     0                        0.0                       0.0   \n",
              "1                     0                        0.0                       0.0   \n",
              "2                     0                        0.0                       0.0   \n",
              "3                     0                        NaN                       NaN   \n",
              "4                     0                        0.0                       0.0   \n",
              "...                 ...                        ...                       ...   \n",
              "307506                0                        NaN                       NaN   \n",
              "307507                0                        NaN                       NaN   \n",
              "307508                0                        1.0                       0.0   \n",
              "307509                0                        0.0                       0.0   \n",
              "307510                0                        0.0                       0.0   \n",
              "\n",
              "        AMT_REQ_CREDIT_BUREAU_WEEK  AMT_REQ_CREDIT_BUREAU_MON  \\\n",
              "0                              0.0                        0.0   \n",
              "1                              0.0                        0.0   \n",
              "2                              0.0                        0.0   \n",
              "3                              NaN                        NaN   \n",
              "4                              0.0                        0.0   \n",
              "...                            ...                        ...   \n",
              "307506                         NaN                        NaN   \n",
              "307507                         NaN                        NaN   \n",
              "307508                         0.0                        1.0   \n",
              "307509                         0.0                        0.0   \n",
              "307510                         0.0                        2.0   \n",
              "\n",
              "        AMT_REQ_CREDIT_BUREAU_QRT  AMT_REQ_CREDIT_BUREAU_YEAR  \n",
              "0                             0.0                         1.0  \n",
              "1                             0.0                         0.0  \n",
              "2                             0.0                         0.0  \n",
              "3                             NaN                         NaN  \n",
              "4                             0.0                         0.0  \n",
              "...                           ...                         ...  \n",
              "307506                        NaN                         NaN  \n",
              "307507                        NaN                         NaN  \n",
              "307508                        0.0                         1.0  \n",
              "307509                        0.0                         0.0  \n",
              "307510                        0.0                         1.0  \n",
              "\n",
              "[307511 rows x 122 columns]"
            ]
          },
          "execution_count": 52,
          "metadata": {},
          "output_type": "execute_result"
        }
      ],
      "source": [
        "## Change this part with your own dataset files\n",
        "\n",
        "data_folder = \"data/\"\n",
        "\n",
        "src_train = f\"{data_folder}application_train.csv.zip\" #'https://docs.google.com/uc?export=download&id=1TNRRGlws5vWKEum8v1PQrVq8PGacMT9Y'\n",
        "src_test = f\"{data_folder}application_test.csv.zip\" #'https://docs.google.com/uc?export=download&id=1IEUuu-Czdv2gsE8Q0EUtGvUelh2xUwN8'\n",
        "\n",
        "src_previous = f\"{data_folder}previous_application.csv.zip\" #'https://docs.google.com/uc?export=download&id=15PuV3DpXii2FokryWCyxTS4HGUj4Kbmn'\n",
        "src_bureau = f\"{data_folder}bureau.csv.zip\" #'https://docs.google.com/uc?export=download&id=18ycqN4m4zmoLvZHWIvYzF9SZiErAPeTi'\n",
        "\n",
        "# If you cannot load the directly the csv from Google drive (Google restrictions), download them manually then change the path to load them locally\n",
        "\n",
        "app_train = pd.read_csv(src_train, compression=\"zip\")\n",
        "app_train\n"
      ]
    },
    {
      "cell_type": "markdown",
      "metadata": {
        "id": "uPBTWB1ViFHe"
      },
      "source": [
        "<h1>Loading the datasets (2 pts)</h1>\n",
        "\n",
        "1. Similarly to the train set, load the test set, the bureau dataset and the past applications dataset.\n",
        "\n",
        "2. Display for each the number of rows and the number of columns\n",
        "\n",
        "*You will be evaluated as follow*\n",
        "* 1: Correct approach + code: 1pt\n",
        "* 2: Code: 1pts\n"
      ]
    },
    {
      "cell_type": "code",
      "execution_count": 53,
      "metadata": {},
      "outputs": [],
      "source": [
        "# Your code here\n",
        "# The variables that should be implemented to store the data are: app_train, app_test, bureau, app_past\n",
        "\n",
        "\n",
        "# 1 - Loading the different datasets.\n",
        "app_test = pd.read_csv(src_test, compression=\"zip\")\n",
        "bureau = pd.read_csv(src_bureau, compression=\"zip\")\n",
        "app_past = pd.read_csv(src_previous, compression=\"zip\") # TODO: change when past applications data is available\n"
      ]
    },
    {
      "cell_type": "code",
      "execution_count": 54,
      "metadata": {
        "id": "GjoGTJvLiBPP"
      },
      "outputs": [
        {
          "name": "stdout",
          "output_type": "stream",
          "text": [
            "Test set: columns: 48744, rows: 121\n",
            "Bureau: columns: 1716428, rows: 17\n",
            "Past applications: columns: 1670214, rows: 37\n"
          ]
        }
      ],
      "source": [
        "# 2 - The number of rows and columns for each\n",
        "app_test_cols, app_test_rows = app_test.shape\n",
        "bureau_cols, bureau_rows = bureau.shape\n",
        "app_past_cols, app_past_rows = app_past.shape\n",
        "\n",
        "print(f\"Test set: columns: {app_test_cols}, rows: {app_test_rows}\\n\"\n",
        "      f\"Bureau: columns: {bureau_cols}, rows: {bureau_rows}\\n\"\n",
        "      f\"Past applications: columns: {app_past_cols}, rows: {app_past_rows}\")"
      ]
    },
    {
      "cell_type": "markdown",
      "metadata": {
        "id": "GnMI0pRmkHzH"
      },
      "source": [
        "<h1> Feature Engineering</h1>"
      ]
    },
    {
      "cell_type": "markdown",
      "metadata": {
        "id": "SuAAPVW1kH82"
      },
      "source": [
        "<h2>Missing values (9pts)</h2>\n",
        "\n",
        "\n",
        "**3.a**: What columns are missing the most values in app_test?\n",
        "\n",
        "**3.b**: What columns are missing the most values in bureau?\n",
        "\n",
        "**3.c**: What columns are missing the most values in app_past?\n",
        "\n",
        "4: Fix missing data in app_test dataset using categorization and/or simple imputation when appropriate. Be careful to the **data leakage** issue!\n",
        "\n",
        "*You will be evaluated as follow*\n",
        "* 3: Correct approach + code 2pts.\n",
        "* 4: Description of the approach 4pts. Code implementation of the approach 3pts."
      ]
    },
    {
      "cell_type": "code",
      "execution_count": 55,
      "metadata": {},
      "outputs": [
        {
          "name": "stdout",
          "output_type": "stream",
          "text": [
            "Test set: \n",
            "    columns: ['AMT_REQ_CREDIT_BUREAU_HOUR', 'AMT_REQ_CREDIT_BUREAU_DAY', 'AMT_REQ_CREDIT_BUREAU_WEEK', 'AMT_REQ_CREDIT_BUREAU_MON', 'AMT_REQ_CREDIT_BUREAU_QRT', 'AMT_REQ_CREDIT_BUREAU_YEAR']\n",
            "    value: 6049\n",
            "Bureau: \n",
            "    columns: ['AMT_ANNUITY']\n",
            "    value: 1226791\n",
            "Past applications: \n",
            "    columns: ['DAYS_FIRST_DRAWING', 'DAYS_FIRST_DUE', 'DAYS_LAST_DUE_1ST_VERSION', 'DAYS_LAST_DUE', 'DAYS_TERMINATION', 'NFLAG_INSURED_ON_APPROVAL']\n",
            "    value: 673065\n"
          ]
        }
      ],
      "source": [
        "# 3\n",
        "\n",
        "\n",
        "def get_columns_with_max_nans(dataframe: pd.DataFrame) -> tuple[list[str], int]:\n",
        "    \"\"\"\n",
        "    Finds the columns with the most missing (NaN) values in a given DataFrame.\n",
        "    \n",
        "    The function calculates the sum of NaN values for each column and identifies \n",
        "    all columns that have the maximum number of missing values.\n",
        "\n",
        "    Parameters:\n",
        "      dataframe (pd.DataFrame): The input DataFrame to analyze for NaN values.\n",
        "    \n",
        "    Returns:\n",
        "      tuple[list[str], int]: A tuple containing a list of column names with the most NaNs (list of str) \n",
        "                             and the corresponding count of NaN values (int).\n",
        "    \"\"\"\n",
        "    nan_counts = dataframe.isnull().sum()\n",
        "    max_nan_value = nan_counts.iloc[-1]  # get the maximum number of NaNs (last element)\n",
        "    max_nan_columns = nan_counts[nan_counts == max_nan_value].index.tolist()  # get all columns with that value\n",
        "    return max_nan_columns, max_nan_value\n",
        "\n",
        "\n",
        "app_test_col, app_test_val = get_columns_with_max_nans(app_test)\n",
        "bureau_col, bureau_val = get_columns_with_max_nans(bureau)\n",
        "app_past_col, app_past_val = get_columns_with_max_nans(app_past)\n",
        "\n",
        "print(f\"Test set: \\n    columns: {app_test_col}\\n    value: {app_test_val}\\n\"\n",
        "      f\"Bureau: \\n    columns: {bureau_col}\\n    value: {bureau_val}\\n\"\n",
        "      f\"Past applications: \\n    columns: {app_past_col}\\n    value: {app_past_val}\")"
      ]
    },
    {
      "cell_type": "code",
      "execution_count": 91,
      "metadata": {},
      "outputs": [
        {
          "data": {
            "text/plain": [
              "array([    8,    24,    29,    29,    29,    29,   911,  6049,  6049,\n",
              "        6049,  6049,  6049,  6049,  8668, 15605, 20532, 22209, 22624,\n",
              "       22856, 22856, 22856, 23321, 23321, 23321, 23552, 23552, 23552,\n",
              "       23579, 23579, 23579, 23619, 23887, 23887, 23887, 23893, 25189,\n",
              "       25189, 25189, 26084, 26084, 26084, 27641, 27641, 27641, 28254,\n",
              "       28254, 28254, 31818, 31818, 31818, 32312, 32466, 32466, 32466,\n",
              "       32780, 32780, 32780, 32797, 33347, 33347, 33347, 33495, 33495,\n",
              "       33495], dtype=int64)"
            ]
          },
          "execution_count": 91,
          "metadata": {},
          "output_type": "execute_result"
        }
      ],
      "source": [
        "a = []\n",
        "for col in app_test.columns[app_test.isna().any()].tolist():\n",
        "    a.append(app_test.isnull().sum()[col])\n",
        "np.sort(a)"
      ]
    },
    {
      "cell_type": "code",
      "execution_count": 79,
      "metadata": {
        "id": "GCD-Tet5rKuq"
      },
      "outputs": [],
      "source": [
        "# 4: Fix missing data in app_test using categorization and/or simple imputation when appropriate. You should use *only* pandas and numpy here. You should *not* use sklearn (scikit-learn).\n",
        "\n",
        "# NOTE: see description of the \"fixing missing data\" logic in the function description or in the Markdown cell below\n",
        "\n",
        "\n",
        "def handle_nans(df: pd.DataFrame, row_thres: float=0.05, col_thres: float=0.25, num_unique=25) -> pd.DataFrame:\n",
        "    \"\"\"\n",
        "    Handles missing data in the following ways:\n",
        "    1. Drops the column if more than a given percentage (col_thres) of data is missing.\n",
        "    2. Drops rows with missing values if the percentage of missing values in a column is below a threshold (row_thres).\n",
        "    3. If a column has a low number of distinct values (less than 30), treat it as categorical and create a new class for NaNs.\n",
        "    4. For the rest, fills NaNs in numerical columns with the mean of the column.\n",
        "\n",
        "    Parameters:\n",
        "      df (pd.DataFrame): The input DataFrame with missing data.\n",
        "      row_threshold (float): The threshold percentage (default 5%) to drop rows with missing values.\n",
        "      col_threshold (float): The threshold percentage (default 50%) to drop columns with too many missing values.\n",
        "\n",
        "    Returns:\n",
        "      pd.DataFrame: The DataFrame after handling missing data.\n",
        "    \"\"\"\n",
        "    missing_percentage = df.isnull().mean() # calculate the percentage of missing values for each column\n",
        "    # step 1: drop columns where the missing percentage is greater than the column threshold\n",
        "    df = df.loc[:, missing_percentage <= col_thres]\n",
        "    # step 2: drop rows for columns where missing percentage is less than the row threshold\n",
        "    columns_to_drop_rows = missing_percentage[missing_percentage < row_thres].index\n",
        "    df = df.dropna(subset=columns_to_drop_rows)\n",
        "    # step 3\n",
        "    return df\n"
      ]
    },
    {
      "cell_type": "code",
      "execution_count": 80,
      "metadata": {},
      "outputs": [],
      "source": [
        "df = handle_nans(app_test)"
      ]
    },
    {
      "cell_type": "code",
      "execution_count": 81,
      "metadata": {},
      "outputs": [
        {
          "data": {
            "text/plain": [
              "(47772, 71)"
            ]
          },
          "execution_count": 81,
          "metadata": {},
          "output_type": "execute_result"
        }
      ],
      "source": [
        "df.shape"
      ]
    },
    {
      "cell_type": "code",
      "execution_count": 82,
      "metadata": {},
      "outputs": [
        {
          "data": {
            "text/plain": [
              "(48744, 121)"
            ]
          },
          "execution_count": 82,
          "metadata": {},
          "output_type": "execute_result"
        }
      ],
      "source": [
        "app_test.shape"
      ]
    },
    {
      "cell_type": "code",
      "execution_count": 67,
      "metadata": {},
      "outputs": [
        {
          "data": {
            "text/plain": [
              "(48744, 71)"
            ]
          },
          "execution_count": 67,
          "metadata": {},
          "output_type": "execute_result"
        }
      ],
      "source": [
        "df.shape"
      ]
    },
    {
      "cell_type": "markdown",
      "metadata": {
        "id": "Sz6iD4S-rVUy"
      },
      "source": [
        "**4**: Describe your approach, including how you choose the technique to apply, and how you apply the technique (double click to edit a text cell)\n",
        "\n",
        "There are different ways to handle missing data. The logic I decided to implement is:\n",
        "1) If the number of missing values in a column is too much relative to the total number of rows (`25%`), we drop the column\n",
        "2) If the number of missing values in a column is low relative to the total number of rows (`5%`), we drow the rows containing these missing values\n",
        "for the rest cases, it is not as straightforward:\n",
        "3) If a column has a low number of distinct values (less than `25`), treat NaN values as categorical and create a new distinct class for them. Number `25` comes from the code below, where I check how many distinct values a column has that contains missing values. Basically, all the columns that have less that 25 unique values containt categorical data.\n",
        "4) Else, we take the mean of the column and fill NaNs with it.\n",
        "\n"
      ]
    },
    {
      "cell_type": "code",
      "execution_count": 113,
      "metadata": {},
      "outputs": [
        {
          "name": "stdout",
          "output_type": "stream",
          "text": [
            "[    2     3     3     3     3     4     7     7     7     7     8     8\n",
            "    16    18    25    25    26    27    28    30    43    43    44    47\n",
            "    52   106   129   130   132   134   160   169   175   181   198   200\n",
            "   241   252   602   636   702   843   918  1211  1543  2001  2025  2026\n",
            "  2030  2034  2042  2540  2560  2562  2805  2816  2835  3820  3842  3848\n",
            "  3885  7491 27207 38885]\n"
          ]
        }
      ],
      "source": [
        "# get the count of NaN values for each column\n",
        "nan_counts = app_test.isnull().sum()\n",
        "# filter columns with more than 1 NaN value\n",
        "columns_with_nans = nan_counts[nan_counts > 1].index\n",
        "# output the number of unique values in those columns\n",
        "unique_values_counts = app_test[columns_with_nans].nunique()\n",
        "print(np.sort(unique_values_counts.values))"
      ]
    },
    {
      "cell_type": "code",
      "execution_count": 111,
      "metadata": {},
      "outputs": [
        {
          "name": "stdout",
          "output_type": "stream",
          "text": [
            "NONLIVINGAPARTMENTS_MODE 106\n"
          ]
        }
      ],
      "source": [
        "print(unique_values_counts.sort_values().index[25], unique_values_counts.sort_values().iloc[25])"
      ]
    },
    {
      "cell_type": "code",
      "execution_count": 112,
      "metadata": {},
      "outputs": [
        {
          "data": {
            "text/plain": [
              "0           NaN\n",
              "1           NaN\n",
              "2           NaN\n",
              "3        0.0389\n",
              "4           NaN\n",
              "          ...  \n",
              "48739       NaN\n",
              "48740       NaN\n",
              "48741       NaN\n",
              "48742       NaN\n",
              "48743       NaN\n",
              "Name: NONLIVINGAPARTMENTS_MODE, Length: 48744, dtype: float64"
            ]
          },
          "execution_count": 112,
          "metadata": {},
          "output_type": "execute_result"
        }
      ],
      "source": [
        "app_test[\"NONLIVINGAPARTMENTS_MODE\"]"
      ]
    },
    {
      "cell_type": "markdown",
      "metadata": {
        "id": "LRgq0O0R8Dql"
      },
      "source": [
        "## Class Imbalance (8 pts)\n",
        "\n",
        "5. Evaluate the class imbalance of the training set.\n",
        "\n",
        "6. **a** Fix the class imbalance with over/undersampling\n",
        "\n",
        " **b** Use the SMOTE algorithm to fix class imbalance\n",
        "\n",
        "*You will be evaluated as follow*\n",
        "* 5: Correct approach + code: 2ts\n",
        "* 6.a: code 3pt\n",
        "* 6.b: code 3pts"
      ]
    },
    {
      "cell_type": "code",
      "execution_count": null,
      "metadata": {
        "id": "ylyaMfXN8Kbd"
      },
      "outputs": [],
      "source": [
        "# 5 - value counts\n",
        "\n",
        "\n",
        "# 5 - histograms\n"
      ]
    },
    {
      "cell_type": "markdown",
      "metadata": {
        "id": "KP0jGTbSfQyb"
      },
      "source": [
        "**5**: Describe briefly your observation (double click to edit a text cell)"
      ]
    },
    {
      "cell_type": "code",
      "execution_count": null,
      "metadata": {
        "id": "PTyLbFbxgiD1"
      },
      "outputs": [],
      "source": [
        "# copy your current dataframe with its .copy() method. You should always use the copy() method if you want to keep the original dataframe untouched when you modify\n",
        "# this is a very common bug, so please read  https://www.statology.org/pandas-copy-dataframe/\n",
        "\n",
        "## Your code here\n",
        "app_train_original = ...\n",
        "\n",
        "\n",
        "# 6.a - fix imbalance with undersampling or oversampling\n",
        "# Implement undersampling or oversampling *without* external libraries, only the library provided to implement yourself the chosen solution.\n",
        "\n",
        "## Your code here\n",
        "\n",
        "\n",
        "# 6.b - fix balance with SMOTE on your previously copied dataframe\n",
        "# You can use any external libraries to use SMOTE. We recommend the imbalanced-learn package https://imbalanced-learn.org/stable/over_sampling.html\n",
        "# Make sure to select the appropriate SMOTE variant.\n",
        "\n",
        "\n",
        "## Your code here\n",
        "app_train_smote = ...\n",
        "\n",
        "\n",
        "# We will use the dataframe app_train from 6.a in the following"
      ]
    },
    {
      "cell_type": "markdown",
      "metadata": {
        "id": "h27ZdP7aloQb"
      },
      "source": [
        "<h2>Categorical features (9pts)</h2>\n",
        "\n",
        "In `app_test`\n",
        "\n",
        "**7a**: How will you transform the column NAME_HOUSING_TYPE in app_test be correctly handled by the model? How will you transform CODE_GENDER column?\n",
        "\n",
        "**7b**: How would you transform the column NAME_HOUSING_TYPE in app_test if you want only 3 categories? Use LabelEncoder to transform FLAG_OWN_CAR column.\n",
        "\n",
        "**7c**: In ORGANIZATION_TYPE, only keep the categories that appear in more than 10% of the dataset. Group other categories in one. What is the size of the dummy vector for ORGANIZATION_TYPE after this transformation?\n",
        "\n",
        "\n",
        "8: **In app_test, app_past and bureau,** transform all the categorical columns that you have not processed in 7 using One-hot encoding.\n",
        "\n",
        "*You will be evaluated as follow*\n",
        "* 7: Description of the approach 4pts. Code 3pts.\n",
        "* 8: Correct approach + code 2pts."
      ]
    },
    {
      "cell_type": "code",
      "execution_count": null,
      "metadata": {
        "id": "shlk_faurPh6"
      },
      "outputs": [],
      "source": [
        "## Your code here"
      ]
    },
    {
      "cell_type": "markdown",
      "metadata": {
        "id": "ufWJR8ScnHb4"
      },
      "source": [
        "<h2>Anomalies (7 pts)</h2>\n",
        "\n",
        "**In app_test**\n",
        "\n",
        "**9a**: Is there an anomaly with the column DEF_30_CNT_SOCIAL_CIRCLE? If so, how would you solve it?\n",
        "\n",
        "**9b**: Is there an anomaly with the column LANDAREA_AVG? If so, how would you solve it?\n",
        "\n",
        "**9c**: Is there an anomaly with the column AMT_INCOME_TOTAL? If so, how would you solve it?\n",
        "\n",
        "10: Fix the anomaly in DAYS_EMPLOYED?\n",
        "\n",
        "*You will be evaluated as follow*\n",
        "* 9: Description of the approach + code 5pts.\n",
        "* 10: code 2pts"
      ]
    },
    {
      "cell_type": "code",
      "execution_count": null,
      "metadata": {
        "id": "I5TcZk8Q5jQ-"
      },
      "outputs": [],
      "source": [
        "## Your code here"
      ]
    },
    {
      "cell_type": "markdown",
      "metadata": {
        "id": "DgQ2i5B25lRC"
      },
      "source": [
        "<h2>Correlations (9 pts)</h2>\n",
        "\n",
        "\n",
        "11: **In app_test**, remove the collinear features of the dataset. How did you choose the threshold?\n",
        "\n",
        "12: What features from bureau.csv could you use to improve the training set? Use the random forest model from the notebook of the Lecture to check if it actually improves the final model performance.\n",
        "\n",
        "*You will be evaluated as follow*\n",
        "* 11: Code 3pts. Threshold explanation 1pt.\n",
        "* 12: Description of the approach 1pt. Code implementation of the approach 2pts. Improved performance 2pts."
      ]
    },
    {
      "cell_type": "code",
      "execution_count": null,
      "metadata": {
        "id": "uU1j3LW2S-ir"
      },
      "outputs": [],
      "source": [
        "## Your code here"
      ]
    },
    {
      "cell_type": "markdown",
      "metadata": {
        "id": "7_fQJhfcyQWn"
      },
      "source": [
        "##  Class imbalance and model performances (6 points)\n",
        "\n",
        "\n",
        "**13**: Evaluate the other technique (SMOTE) to handeling imbalance data left in *6.b*. Does it makes a difference on the final model performance? Can you use the performance on the test set to choose which techniques to use? If not, what would you need to do so?\n",
        "\n",
        "*You will be evaluated as follow*\n",
        "* 13: Code 3pts. Explanation 3pts.\n"
      ]
    },
    {
      "cell_type": "code",
      "execution_count": null,
      "metadata": {
        "id": "jDR7b8VRyUkS"
      },
      "outputs": [],
      "source": [
        "## Your code here"
      ]
    },
    {
      "cell_type": "markdown",
      "metadata": {
        "id": "-kxXg4CA3nPO"
      },
      "source": [
        "**13**: Answer the question here (double click to edit a text cell)\n",
        "\n"
      ]
    }
  ],
  "metadata": {
    "colab": {
      "provenance": []
    },
    "kernelspec": {
      "display_name": "Python 3",
      "name": "python3"
    },
    "language_info": {
      "codemirror_mode": {
        "name": "ipython",
        "version": 3
      },
      "file_extension": ".py",
      "mimetype": "text/x-python",
      "name": "python",
      "nbconvert_exporter": "python",
      "pygments_lexer": "ipython3",
      "version": "3.9.11"
    }
  },
  "nbformat": 4,
  "nbformat_minor": 0
}
