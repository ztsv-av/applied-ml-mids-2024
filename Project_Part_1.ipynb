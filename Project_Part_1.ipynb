{
  "cells": [
    {
      "cell_type": "markdown",
      "metadata": {
        "id": "y6XZ55wHbdm5"
      },
      "source": [
        "# Part 1 of the Machine Learning Project\n",
        "\n",
        "## Preliminaries\n",
        "\n",
        "\n",
        "Before satring familiarize yourself with pandas reading the “10 minutes to pandas” tutorial: https://pandas.pydata.org/pandas-docs/stable/user_guide/10min.html\n",
        "\n",
        "Browse through the full pandas user guide when needed: https://pandas.pydata.org/pandas-docs/stable/user_guide/index.html\n",
        "\n",
        "\n",
        "## Load libraries"
      ]
    },
    {
      "cell_type": "code",
      "execution_count": 1,
      "metadata": {
        "id": "L8jsxX6eaxL_"
      },
      "outputs": [],
      "source": [
        "# numpy and pandas for data manipulation\n",
        "import numpy as np\n",
        "import pandas as pd\n",
        "\n",
        "# File system manangement\n",
        "import os\n",
        "\n",
        "# Suppress warnings\n",
        "import warnings\n",
        "warnings.filterwarnings('ignore')\n",
        "\n",
        "# matplotlib and seaborn for plotting\n",
        "import matplotlib.pyplot as plt\n",
        "import seaborn as sns\n",
        "\n",
        "# For solving exercises\n",
        "from typing import List, Tuple\n",
        "from imblearn.over_sampling import SMOTENC\n",
        "from sklearn.preprocessing import LabelEncoder\n"
      ]
    },
    {
      "cell_type": "markdown",
      "metadata": {},
      "source": [
        "# Global variables"
      ]
    },
    {
      "cell_type": "code",
      "execution_count": 2,
      "metadata": {},
      "outputs": [],
      "source": [
        "random_state = 1"
      ]
    },
    {
      "cell_type": "markdown",
      "metadata": {
        "id": "ctTp1HonbYpj"
      },
      "source": [
        "<p><img alt=\"Datasets\" src=\"https://storage.googleapis.com/kaggle-media/competitions/home-credit/home_credit.png\" align=\"left\" hspace=\"10px\" vspace=\"0px\"></p>\n",
        "\n",
        "\n",
        "<h1>Datasets</h1>"
      ]
    },
    {
      "cell_type": "code",
      "execution_count": 3,
      "metadata": {
        "id": "TAo_jy0PhBEY"
      },
      "outputs": [
        {
          "data": {
            "text/html": [
              "<div>\n",
              "<style scoped>\n",
              "    .dataframe tbody tr th:only-of-type {\n",
              "        vertical-align: middle;\n",
              "    }\n",
              "\n",
              "    .dataframe tbody tr th {\n",
              "        vertical-align: top;\n",
              "    }\n",
              "\n",
              "    .dataframe thead th {\n",
              "        text-align: right;\n",
              "    }\n",
              "</style>\n",
              "<table border=\"1\" class=\"dataframe\">\n",
              "  <thead>\n",
              "    <tr style=\"text-align: right;\">\n",
              "      <th></th>\n",
              "      <th>SK_ID_CURR</th>\n",
              "      <th>TARGET</th>\n",
              "      <th>NAME_CONTRACT_TYPE</th>\n",
              "      <th>CODE_GENDER</th>\n",
              "      <th>FLAG_OWN_CAR</th>\n",
              "      <th>FLAG_OWN_REALTY</th>\n",
              "      <th>CNT_CHILDREN</th>\n",
              "      <th>AMT_INCOME_TOTAL</th>\n",
              "      <th>AMT_CREDIT</th>\n",
              "      <th>AMT_ANNUITY</th>\n",
              "      <th>...</th>\n",
              "      <th>FLAG_DOCUMENT_18</th>\n",
              "      <th>FLAG_DOCUMENT_19</th>\n",
              "      <th>FLAG_DOCUMENT_20</th>\n",
              "      <th>FLAG_DOCUMENT_21</th>\n",
              "      <th>AMT_REQ_CREDIT_BUREAU_HOUR</th>\n",
              "      <th>AMT_REQ_CREDIT_BUREAU_DAY</th>\n",
              "      <th>AMT_REQ_CREDIT_BUREAU_WEEK</th>\n",
              "      <th>AMT_REQ_CREDIT_BUREAU_MON</th>\n",
              "      <th>AMT_REQ_CREDIT_BUREAU_QRT</th>\n",
              "      <th>AMT_REQ_CREDIT_BUREAU_YEAR</th>\n",
              "    </tr>\n",
              "  </thead>\n",
              "  <tbody>\n",
              "    <tr>\n",
              "      <th>0</th>\n",
              "      <td>100002</td>\n",
              "      <td>1</td>\n",
              "      <td>Cash loans</td>\n",
              "      <td>M</td>\n",
              "      <td>N</td>\n",
              "      <td>Y</td>\n",
              "      <td>0</td>\n",
              "      <td>202500.0</td>\n",
              "      <td>406597.5</td>\n",
              "      <td>24700.5</td>\n",
              "      <td>...</td>\n",
              "      <td>0</td>\n",
              "      <td>0</td>\n",
              "      <td>0</td>\n",
              "      <td>0</td>\n",
              "      <td>0.0</td>\n",
              "      <td>0.0</td>\n",
              "      <td>0.0</td>\n",
              "      <td>0.0</td>\n",
              "      <td>0.0</td>\n",
              "      <td>1.0</td>\n",
              "    </tr>\n",
              "    <tr>\n",
              "      <th>1</th>\n",
              "      <td>100003</td>\n",
              "      <td>0</td>\n",
              "      <td>Cash loans</td>\n",
              "      <td>F</td>\n",
              "      <td>N</td>\n",
              "      <td>N</td>\n",
              "      <td>0</td>\n",
              "      <td>270000.0</td>\n",
              "      <td>1293502.5</td>\n",
              "      <td>35698.5</td>\n",
              "      <td>...</td>\n",
              "      <td>0</td>\n",
              "      <td>0</td>\n",
              "      <td>0</td>\n",
              "      <td>0</td>\n",
              "      <td>0.0</td>\n",
              "      <td>0.0</td>\n",
              "      <td>0.0</td>\n",
              "      <td>0.0</td>\n",
              "      <td>0.0</td>\n",
              "      <td>0.0</td>\n",
              "    </tr>\n",
              "    <tr>\n",
              "      <th>2</th>\n",
              "      <td>100004</td>\n",
              "      <td>0</td>\n",
              "      <td>Revolving loans</td>\n",
              "      <td>M</td>\n",
              "      <td>Y</td>\n",
              "      <td>Y</td>\n",
              "      <td>0</td>\n",
              "      <td>67500.0</td>\n",
              "      <td>135000.0</td>\n",
              "      <td>6750.0</td>\n",
              "      <td>...</td>\n",
              "      <td>0</td>\n",
              "      <td>0</td>\n",
              "      <td>0</td>\n",
              "      <td>0</td>\n",
              "      <td>0.0</td>\n",
              "      <td>0.0</td>\n",
              "      <td>0.0</td>\n",
              "      <td>0.0</td>\n",
              "      <td>0.0</td>\n",
              "      <td>0.0</td>\n",
              "    </tr>\n",
              "    <tr>\n",
              "      <th>3</th>\n",
              "      <td>100006</td>\n",
              "      <td>0</td>\n",
              "      <td>Cash loans</td>\n",
              "      <td>F</td>\n",
              "      <td>N</td>\n",
              "      <td>Y</td>\n",
              "      <td>0</td>\n",
              "      <td>135000.0</td>\n",
              "      <td>312682.5</td>\n",
              "      <td>29686.5</td>\n",
              "      <td>...</td>\n",
              "      <td>0</td>\n",
              "      <td>0</td>\n",
              "      <td>0</td>\n",
              "      <td>0</td>\n",
              "      <td>NaN</td>\n",
              "      <td>NaN</td>\n",
              "      <td>NaN</td>\n",
              "      <td>NaN</td>\n",
              "      <td>NaN</td>\n",
              "      <td>NaN</td>\n",
              "    </tr>\n",
              "    <tr>\n",
              "      <th>4</th>\n",
              "      <td>100007</td>\n",
              "      <td>0</td>\n",
              "      <td>Cash loans</td>\n",
              "      <td>M</td>\n",
              "      <td>N</td>\n",
              "      <td>Y</td>\n",
              "      <td>0</td>\n",
              "      <td>121500.0</td>\n",
              "      <td>513000.0</td>\n",
              "      <td>21865.5</td>\n",
              "      <td>...</td>\n",
              "      <td>0</td>\n",
              "      <td>0</td>\n",
              "      <td>0</td>\n",
              "      <td>0</td>\n",
              "      <td>0.0</td>\n",
              "      <td>0.0</td>\n",
              "      <td>0.0</td>\n",
              "      <td>0.0</td>\n",
              "      <td>0.0</td>\n",
              "      <td>0.0</td>\n",
              "    </tr>\n",
              "    <tr>\n",
              "      <th>...</th>\n",
              "      <td>...</td>\n",
              "      <td>...</td>\n",
              "      <td>...</td>\n",
              "      <td>...</td>\n",
              "      <td>...</td>\n",
              "      <td>...</td>\n",
              "      <td>...</td>\n",
              "      <td>...</td>\n",
              "      <td>...</td>\n",
              "      <td>...</td>\n",
              "      <td>...</td>\n",
              "      <td>...</td>\n",
              "      <td>...</td>\n",
              "      <td>...</td>\n",
              "      <td>...</td>\n",
              "      <td>...</td>\n",
              "      <td>...</td>\n",
              "      <td>...</td>\n",
              "      <td>...</td>\n",
              "      <td>...</td>\n",
              "      <td>...</td>\n",
              "    </tr>\n",
              "    <tr>\n",
              "      <th>307506</th>\n",
              "      <td>456251</td>\n",
              "      <td>0</td>\n",
              "      <td>Cash loans</td>\n",
              "      <td>M</td>\n",
              "      <td>N</td>\n",
              "      <td>N</td>\n",
              "      <td>0</td>\n",
              "      <td>157500.0</td>\n",
              "      <td>254700.0</td>\n",
              "      <td>27558.0</td>\n",
              "      <td>...</td>\n",
              "      <td>0</td>\n",
              "      <td>0</td>\n",
              "      <td>0</td>\n",
              "      <td>0</td>\n",
              "      <td>NaN</td>\n",
              "      <td>NaN</td>\n",
              "      <td>NaN</td>\n",
              "      <td>NaN</td>\n",
              "      <td>NaN</td>\n",
              "      <td>NaN</td>\n",
              "    </tr>\n",
              "    <tr>\n",
              "      <th>307507</th>\n",
              "      <td>456252</td>\n",
              "      <td>0</td>\n",
              "      <td>Cash loans</td>\n",
              "      <td>F</td>\n",
              "      <td>N</td>\n",
              "      <td>Y</td>\n",
              "      <td>0</td>\n",
              "      <td>72000.0</td>\n",
              "      <td>269550.0</td>\n",
              "      <td>12001.5</td>\n",
              "      <td>...</td>\n",
              "      <td>0</td>\n",
              "      <td>0</td>\n",
              "      <td>0</td>\n",
              "      <td>0</td>\n",
              "      <td>NaN</td>\n",
              "      <td>NaN</td>\n",
              "      <td>NaN</td>\n",
              "      <td>NaN</td>\n",
              "      <td>NaN</td>\n",
              "      <td>NaN</td>\n",
              "    </tr>\n",
              "    <tr>\n",
              "      <th>307508</th>\n",
              "      <td>456253</td>\n",
              "      <td>0</td>\n",
              "      <td>Cash loans</td>\n",
              "      <td>F</td>\n",
              "      <td>N</td>\n",
              "      <td>Y</td>\n",
              "      <td>0</td>\n",
              "      <td>153000.0</td>\n",
              "      <td>677664.0</td>\n",
              "      <td>29979.0</td>\n",
              "      <td>...</td>\n",
              "      <td>0</td>\n",
              "      <td>0</td>\n",
              "      <td>0</td>\n",
              "      <td>0</td>\n",
              "      <td>1.0</td>\n",
              "      <td>0.0</td>\n",
              "      <td>0.0</td>\n",
              "      <td>1.0</td>\n",
              "      <td>0.0</td>\n",
              "      <td>1.0</td>\n",
              "    </tr>\n",
              "    <tr>\n",
              "      <th>307509</th>\n",
              "      <td>456254</td>\n",
              "      <td>1</td>\n",
              "      <td>Cash loans</td>\n",
              "      <td>F</td>\n",
              "      <td>N</td>\n",
              "      <td>Y</td>\n",
              "      <td>0</td>\n",
              "      <td>171000.0</td>\n",
              "      <td>370107.0</td>\n",
              "      <td>20205.0</td>\n",
              "      <td>...</td>\n",
              "      <td>0</td>\n",
              "      <td>0</td>\n",
              "      <td>0</td>\n",
              "      <td>0</td>\n",
              "      <td>0.0</td>\n",
              "      <td>0.0</td>\n",
              "      <td>0.0</td>\n",
              "      <td>0.0</td>\n",
              "      <td>0.0</td>\n",
              "      <td>0.0</td>\n",
              "    </tr>\n",
              "    <tr>\n",
              "      <th>307510</th>\n",
              "      <td>456255</td>\n",
              "      <td>0</td>\n",
              "      <td>Cash loans</td>\n",
              "      <td>F</td>\n",
              "      <td>N</td>\n",
              "      <td>N</td>\n",
              "      <td>0</td>\n",
              "      <td>157500.0</td>\n",
              "      <td>675000.0</td>\n",
              "      <td>49117.5</td>\n",
              "      <td>...</td>\n",
              "      <td>0</td>\n",
              "      <td>0</td>\n",
              "      <td>0</td>\n",
              "      <td>0</td>\n",
              "      <td>0.0</td>\n",
              "      <td>0.0</td>\n",
              "      <td>0.0</td>\n",
              "      <td>2.0</td>\n",
              "      <td>0.0</td>\n",
              "      <td>1.0</td>\n",
              "    </tr>\n",
              "  </tbody>\n",
              "</table>\n",
              "<p>307511 rows × 122 columns</p>\n",
              "</div>"
            ],
            "text/plain": [
              "        SK_ID_CURR  TARGET NAME_CONTRACT_TYPE CODE_GENDER FLAG_OWN_CAR  \\\n",
              "0           100002       1         Cash loans           M            N   \n",
              "1           100003       0         Cash loans           F            N   \n",
              "2           100004       0    Revolving loans           M            Y   \n",
              "3           100006       0         Cash loans           F            N   \n",
              "4           100007       0         Cash loans           M            N   \n",
              "...            ...     ...                ...         ...          ...   \n",
              "307506      456251       0         Cash loans           M            N   \n",
              "307507      456252       0         Cash loans           F            N   \n",
              "307508      456253       0         Cash loans           F            N   \n",
              "307509      456254       1         Cash loans           F            N   \n",
              "307510      456255       0         Cash loans           F            N   \n",
              "\n",
              "       FLAG_OWN_REALTY  CNT_CHILDREN  AMT_INCOME_TOTAL  AMT_CREDIT  \\\n",
              "0                    Y             0          202500.0    406597.5   \n",
              "1                    N             0          270000.0   1293502.5   \n",
              "2                    Y             0           67500.0    135000.0   \n",
              "3                    Y             0          135000.0    312682.5   \n",
              "4                    Y             0          121500.0    513000.0   \n",
              "...                ...           ...               ...         ...   \n",
              "307506               N             0          157500.0    254700.0   \n",
              "307507               Y             0           72000.0    269550.0   \n",
              "307508               Y             0          153000.0    677664.0   \n",
              "307509               Y             0          171000.0    370107.0   \n",
              "307510               N             0          157500.0    675000.0   \n",
              "\n",
              "        AMT_ANNUITY  ...  FLAG_DOCUMENT_18 FLAG_DOCUMENT_19 FLAG_DOCUMENT_20  \\\n",
              "0           24700.5  ...                 0                0                0   \n",
              "1           35698.5  ...                 0                0                0   \n",
              "2            6750.0  ...                 0                0                0   \n",
              "3           29686.5  ...                 0                0                0   \n",
              "4           21865.5  ...                 0                0                0   \n",
              "...             ...  ...               ...              ...              ...   \n",
              "307506      27558.0  ...                 0                0                0   \n",
              "307507      12001.5  ...                 0                0                0   \n",
              "307508      29979.0  ...                 0                0                0   \n",
              "307509      20205.0  ...                 0                0                0   \n",
              "307510      49117.5  ...                 0                0                0   \n",
              "\n",
              "       FLAG_DOCUMENT_21 AMT_REQ_CREDIT_BUREAU_HOUR AMT_REQ_CREDIT_BUREAU_DAY  \\\n",
              "0                     0                        0.0                       0.0   \n",
              "1                     0                        0.0                       0.0   \n",
              "2                     0                        0.0                       0.0   \n",
              "3                     0                        NaN                       NaN   \n",
              "4                     0                        0.0                       0.0   \n",
              "...                 ...                        ...                       ...   \n",
              "307506                0                        NaN                       NaN   \n",
              "307507                0                        NaN                       NaN   \n",
              "307508                0                        1.0                       0.0   \n",
              "307509                0                        0.0                       0.0   \n",
              "307510                0                        0.0                       0.0   \n",
              "\n",
              "        AMT_REQ_CREDIT_BUREAU_WEEK  AMT_REQ_CREDIT_BUREAU_MON  \\\n",
              "0                              0.0                        0.0   \n",
              "1                              0.0                        0.0   \n",
              "2                              0.0                        0.0   \n",
              "3                              NaN                        NaN   \n",
              "4                              0.0                        0.0   \n",
              "...                            ...                        ...   \n",
              "307506                         NaN                        NaN   \n",
              "307507                         NaN                        NaN   \n",
              "307508                         0.0                        1.0   \n",
              "307509                         0.0                        0.0   \n",
              "307510                         0.0                        2.0   \n",
              "\n",
              "        AMT_REQ_CREDIT_BUREAU_QRT  AMT_REQ_CREDIT_BUREAU_YEAR  \n",
              "0                             0.0                         1.0  \n",
              "1                             0.0                         0.0  \n",
              "2                             0.0                         0.0  \n",
              "3                             NaN                         NaN  \n",
              "4                             0.0                         0.0  \n",
              "...                           ...                         ...  \n",
              "307506                        NaN                         NaN  \n",
              "307507                        NaN                         NaN  \n",
              "307508                        0.0                         1.0  \n",
              "307509                        0.0                         0.0  \n",
              "307510                        0.0                         1.0  \n",
              "\n",
              "[307511 rows x 122 columns]"
            ]
          },
          "execution_count": 3,
          "metadata": {},
          "output_type": "execute_result"
        }
      ],
      "source": [
        "data_folder = \"data/\"\n",
        "\n",
        "src_train = f\"{data_folder}application_train.csv.zip\" #'https://docs.google.com/uc?export=download&id=1TNRRGlws5vWKEum8v1PQrVq8PGacMT9Y'\n",
        "src_test = f\"{data_folder}application_test.csv.zip\" #'https://docs.google.com/uc?export=download&id=1IEUuu-Czdv2gsE8Q0EUtGvUelh2xUwN8'\n",
        "src_previous = f\"{data_folder}previous_application.csv.zip\" #'https://docs.google.com/uc?export=download&id=15PuV3DpXii2FokryWCyxTS4HGUj4Kbmn'\n",
        "src_bureau = f\"{data_folder}bureau.csv.zip\" #'https://docs.google.com/uc?export=download&id=18ycqN4m4zmoLvZHWIvYzF9SZiErAPeTi'\n",
        "\n",
        "app_train = pd.read_csv(src_train, compression=\"zip\")\n",
        "app_train"
      ]
    },
    {
      "cell_type": "markdown",
      "metadata": {
        "id": "uPBTWB1ViFHe"
      },
      "source": [
        "## **1, 2**: Loading the datasets (2 pts)\n",
        "\n",
        "1. Similarly to the train set, load the test set, the bureau dataset and the past applications dataset.\n",
        "\n",
        "2. Display for each the number of rows and the number of columns\n",
        "\n",
        "*You will be evaluated as follow*\n",
        "* 1: Correct approach + code: 1pt\n",
        "* 2: Code: 1pts\n"
      ]
    },
    {
      "cell_type": "code",
      "execution_count": 40,
      "metadata": {},
      "outputs": [],
      "source": [
        "# 1 - Loading the different datasets\n",
        "# The variables that should be implemented to store the data are: app_train, app_test, bureau, app_past\n",
        "app_test = pd.read_csv(src_test, compression=\"zip\")\n",
        "bureau = pd.read_csv(src_bureau, compression=\"zip\")\n",
        "app_past = pd.read_csv(src_previous, compression=\"zip\")"
      ]
    },
    {
      "cell_type": "code",
      "execution_count": 5,
      "metadata": {
        "id": "GjoGTJvLiBPP"
      },
      "outputs": [
        {
          "name": "stdout",
          "output_type": "stream",
          "text": [
            "Test set: columns: 48744, rows: 121\n",
            "Bureau: columns: 1716428, rows: 17\n",
            "Past applications: columns: 1670214, rows: 37\n"
          ]
        }
      ],
      "source": [
        "# 2 - The number of rows and columns for each\n",
        "app_test_cols, app_test_rows = app_test.shape\n",
        "bureau_cols, bureau_rows = bureau.shape\n",
        "app_past_cols, app_past_rows = app_past.shape\n",
        "\n",
        "print(f\"Test set: rows: {app_test_cols}, columns: {app_test_rows}\\n\"\n",
        "      f\"Bureau: rows: {bureau_cols}, columns: {bureau_rows}\\n\"\n",
        "      f\"Past applications: rows: {app_past_cols}, columns: {app_past_rows}\")"
      ]
    },
    {
      "cell_type": "markdown",
      "metadata": {
        "id": "GnMI0pRmkHzH"
      },
      "source": [
        "## **3, 4**: Feature Engineering"
      ]
    },
    {
      "cell_type": "markdown",
      "metadata": {
        "id": "SuAAPVW1kH82"
      },
      "source": [
        "<h2>Missing values (9pts)</h2>\n",
        "\n",
        "\n",
        "**3.a**: What columns are missing the most values in app_test?\n",
        "\n",
        "**3.b**: What columns are missing the most values in bureau?\n",
        "\n",
        "**3.c**: What columns are missing the most values in app_past?\n",
        "\n",
        "4: Fix missing data in app_test dataset using categorization and/or simple imputation when appropriate. Be careful to the **data leakage** issue!\n",
        "\n",
        "*You will be evaluated as follow*\n",
        "* 3: Correct approach + code 2pts.\n",
        "* 4: Description of the approach 4pts. Code implementation of the approach 3pts."
      ]
    },
    {
      "cell_type": "code",
      "execution_count": 6,
      "metadata": {},
      "outputs": [],
      "source": [
        "# 3 - Missing values\n",
        "def get_columns_with_max_nans(df: pd.DataFrame) -> tuple[list[str], int]:\n",
        "    \"\"\"\n",
        "    Finds the columns with the most missing (NaN) values in a given DataFrame.\n",
        "    \n",
        "    The function calculates the sum of NaN values for each column and identifies \n",
        "    all columns that have the maximum number of missing values.\n",
        "\n",
        "    Parameters:\n",
        "      - df (pd.DataFrame): The input DataFrame to analyze for NaN values.\n",
        "    \n",
        "    Returns:\n",
        "      - max_nan_columns, max_nan_value (tuple[list[str], int]): A tuple containing a list of column names with the most NaNs (list of str) \n",
        "        and the corresponding count of NaN values (int).\n",
        "    \"\"\"\n",
        "    nan_counts = df.isnull().sum()\n",
        "    max_nan_value = nan_counts.iloc[-1]  # get the maximum number of NaNs (last element)\n",
        "    max_nan_columns = nan_counts[nan_counts == max_nan_value].index.tolist()  # get all columns with that value\n",
        "    return max_nan_columns, max_nan_value"
      ]
    },
    {
      "cell_type": "code",
      "execution_count": 7,
      "metadata": {},
      "outputs": [
        {
          "name": "stdout",
          "output_type": "stream",
          "text": [
            "Test set: \n",
            "    columns: ['AMT_REQ_CREDIT_BUREAU_HOUR', 'AMT_REQ_CREDIT_BUREAU_DAY', 'AMT_REQ_CREDIT_BUREAU_WEEK', 'AMT_REQ_CREDIT_BUREAU_MON', 'AMT_REQ_CREDIT_BUREAU_QRT', 'AMT_REQ_CREDIT_BUREAU_YEAR']\n",
            "    value: 6049\n",
            "Bureau: \n",
            "    columns: ['AMT_ANNUITY']\n",
            "    value: 1226791\n",
            "Past applications: \n",
            "    columns: ['DAYS_FIRST_DRAWING', 'DAYS_FIRST_DUE', 'DAYS_LAST_DUE_1ST_VERSION', 'DAYS_LAST_DUE', 'DAYS_TERMINATION', 'NFLAG_INSURED_ON_APPROVAL']\n",
            "    value: 673065\n"
          ]
        }
      ],
      "source": [
        "app_test_col, app_test_val = get_columns_with_max_nans(app_test) # 3a\n",
        "bureau_col, bureau_val = get_columns_with_max_nans(bureau) # 3b\n",
        "app_past_col, app_past_val = get_columns_with_max_nans(app_past) # 3c\n",
        "\n",
        "print(f\"Test set: \\n    columns: {app_test_col}\\n    value: {app_test_val}\\n\"\n",
        "      f\"Bureau: \\n    columns: {bureau_col}\\n    value: {bureau_val}\\n\"\n",
        "      f\"Past applications: \\n    columns: {app_past_col}\\n    value: {app_past_val}\")"
      ]
    },
    {
      "cell_type": "code",
      "execution_count": 8,
      "metadata": {
        "id": "GCD-Tet5rKuq"
      },
      "outputs": [],
      "source": [
        "# 4 - Fix missing data in app_test using categorization and/or simple imputation when appropriate. \n",
        "# You should use *only* pandas and numpy here. You should *not* use sklearn (scikit-learn).\n",
        "def handle_nans(df: pd.DataFrame, row_thres: float=0.05, col_thres: float=0.25) -> pd.DataFrame:\n",
        "  \"\"\"\n",
        "  Handles missing data in the following ways:\n",
        "  1. Drops the column if more than a given percentage (col_thres) of data is missing.\n",
        "  2. Drops rows with missing values if the percentage of missing values in a column is below a threshold (row_thres).\n",
        "  3. For the categorical variables: we consider variable as categorical if:\n",
        "    - its dtype is 'object'\n",
        "    - its dtype is 'int64'\n",
        "    - its dtype is 'bool'\n",
        "  4. For the rest (numerical columns), fills NaNs with the mean of the column.\n",
        "\n",
        "  Parameters:\n",
        "    - df (pd.DataFrame): The input DataFrame with missing data.\n",
        "    - row_threshold (float): The threshold percentage (default 5%) to drop rows with missing values.\n",
        "    - col_threshold (float): The threshold percentage (default 50%) to drop columns with too many missing values.\n",
        "    - num_unique (int): Threshold for the number of unique elements in 'int64' columns to categorize them as categorical columns.\n",
        "\n",
        "  Returns:\n",
        "    - df (pd.DataFrame): The DataFrame after handling missing data.\n",
        "  \"\"\"\n",
        "  df_ = df\n",
        "  missing_percentage = df_.isnull().mean() # calculate the percentage of missing values for each column\n",
        "  # step 1: drop columns where the missing percentage is greater than the column threshold\n",
        "  df_ = df_.loc[:, missing_percentage <= col_thres]\n",
        "  # step 2: drop rows for columns where missing percentage is less than the row threshold\n",
        "  columns_to_drop_rows = missing_percentage[missing_percentage < row_thres].index\n",
        "  df_ = df_.dropna(subset=columns_to_drop_rows)\n",
        "  # step 3 (after review: not necessary): treat columns with object or int64 type as categorical\n",
        "  categorical_columns = df_.select_dtypes(include=['object', 'int64', 'bool']).columns\n",
        "  # fill NaNs in categorical columns with 'missing'\n",
        "  print(f\"Number of NaNs BEFORE filling missing values in categorical columns: {df_.isnull().sum().sum()}\")\n",
        "  df_[categorical_columns] = df_[categorical_columns].fillna('missing')\n",
        "  print(f\"Number of NaNs AFTER filling missing values in categorical columns: {df_.isnull().sum().sum()}\")\n",
        "  print(f\"Number of categorical columns: {len(categorical_columns)}\")\n",
        "  # step 4: fill NaNs in numerical columns with the mean\n",
        "  numerical_columns = df_.select_dtypes(include=[np.number]).columns\n",
        "  df_[numerical_columns] = df_[numerical_columns].fillna(df_[numerical_columns].mean())\n",
        "  return df_"
      ]
    },
    {
      "cell_type": "code",
      "execution_count": 39,
      "metadata": {},
      "outputs": [
        {
          "name": "stdout",
          "output_type": "stream",
          "text": [
            "Number of NaNs BEFORE filling missing values in categorical columns: 44208\n",
            "Number of NaNs AFTER filling missing values in categorical columns: 44208\n",
            "Number of categorical columns: 51\n",
            "New shape: (47772, 71)\n",
            "Number of NaNs after applying handle_nans(): 0\n"
          ]
        }
      ],
      "source": [
        "app_test = handle_nans(df=app_test)\n",
        "print(f\"New shape: {app_test.shape}\")\n",
        "print(f\"Number of NaNs after applying handle_nans(): {app_test.isnull().sum().sum()}\")"
      ]
    },
    {
      "cell_type": "markdown",
      "metadata": {
        "id": "Sz6iD4S-rVUy"
      },
      "source": [
        "**4**: Describe your approach, including how you choose the technique to apply, and how you apply the technique (double click to edit a text cell)\n",
        "\n",
        "**Answer**: There are different ways to handle missing data. The logic I decided to implement is:\n",
        "1. If the number of missing values in a column is too much relative to the total number of rows (`25%`), we drop the column\n",
        "2. If the number of missing values in a column is low relative to the total number of rows (`5%`), we drow the rows containing these missing values\n",
        "for the rest cases, it is not as straightforward:\n",
        "3. For the categorical variables: we consider variable as categorical if:\n",
        "   - Its `dtype` is `object`, `int64` or `bool`\n",
        "   - This results in $51$ columns.\n",
        "   - It is a simple approach. The more complicated approach would be to review all `int64` columns and process each individual column accordingly. However, after review, we can notice that this step is not actually necessary: there are no NaNs in these 50 categorical selected columns.\n",
        "4. For the rest columns, which hold continious values, we fill `NaN` values with the mean of the column."
      ]
    },
    {
      "cell_type": "markdown",
      "metadata": {
        "id": "LRgq0O0R8Dql"
      },
      "source": [
        "## **5,6**: Class Imbalance (8 pts)\n",
        "\n",
        "5. Evaluate the class imbalance of the training set.\n",
        "\n",
        "6. Fixing class imbalance:\n",
        "   1. **a** Fix the class imbalance with over/undersampling\n",
        "   2. **b** Use the SMOTE algorithm to fix class imbalance\n",
        "\n",
        "*You will be evaluated as follow*\n",
        "* 5: Correct approach + code: 2ts\n",
        "* 6.a: code 3pt\n",
        "* 6.b: code 3pts"
      ]
    },
    {
      "cell_type": "code",
      "execution_count": 10,
      "metadata": {
        "id": "ylyaMfXN8Kbd"
      },
      "outputs": [
        {
          "name": "stdout",
          "output_type": "stream",
          "text": [
            "Target variable distribution:\n",
            "TARGET\n",
            "0    282686\n",
            "1     24825\n",
            "Name: count, dtype: int64\n",
            "Ratio: 11.39\n"
          ]
        },
        {
          "data": {
            "image/png": "[encoded data removed]",
            "text/plain": [
              "<Figure size 800x600 with 1 Axes>"
            ]
          },
          "metadata": {},
          "output_type": "display_data"
        }
      ],
      "source": [
        "# 5 - Class imbalance: analysis\n",
        "target_col = \"TARGET\"\n",
        "target_data = app_train[target_col]\n",
        "# value counts\n",
        "print(f\"Target variable distribution:\\n\"\n",
        "      f\"{target_data.value_counts()}\\n\"\n",
        "      f\"Ratio: {round(target_data.value_counts()[0]/target_data.value_counts()[1], 2)}\")\n",
        "# histograms\n",
        "plt.figure(figsize=(8, 6))\n",
        "plt.hist(target_data, bins=2, edgecolor='black', range=(-1, 2))\n",
        "plt.title('Distribution of Target Variable')\n",
        "plt.xlabel('Class')\n",
        "plt.ylabel('Frequency')\n",
        "plt.xticks([0, 1])\n",
        "plt.grid(True)\n",
        "plt.show()"
      ]
    },
    {
      "cell_type": "markdown",
      "metadata": {
        "id": "KP0jGTbSfQyb"
      },
      "source": [
        "**5**: Describe briefly your observation (double click to edit a text cell).\n",
        "\n",
        "**Answer**: from the histogram and `value_counts` its clear that the distribution of target variable is imbalanced; class `0` is more present than class `1` with ratio `11.39`."
      ]
    },
    {
      "cell_type": "code",
      "execution_count": 11,
      "metadata": {
        "id": "PTyLbFbxgiD1"
      },
      "outputs": [],
      "source": [
        "# 6 - Class imbalance: undersampling/oversampling\n",
        "# Copy your current dataframe with its .copy() method. You should always use the copy() method if you want to keep the original dataframe untouched when you modify. This is a very common bug, so please read  https://www.statology.org/pandas-copy-dataframe/\n",
        "app_train_new = app_train.copy()"
      ]
    },
    {
      "cell_type": "markdown",
      "metadata": {},
      "source": [
        "### **6.a** - Fix imbalance with undersampling or oversampling. \n",
        "\n",
        "Implement undersampling or oversampling *without* external libraries, only the library provided to implement yourself the chosen solution.\n",
        "\n",
        "**Solution**: For undersampling we can easily take the random subset of the dominant class with the cardinality $\\ge$ the cardinality of the minority class, leading to the same number of instances in each class. This solution  is not good:\n",
        "1. We lose a lot of valuable information. \n",
        "2. We might skew the actual distribution of the data when randomly discard rows from the given dataframe.\n",
        "\n",
        "To make undersampling *smarter*, we **must not** remove samples randomly. We might do the following:\n",
        "1. Represent each data point of the majority class in some space where we can perfom numerical operations, such as computing distance.\n",
        "2. Find the biggest cluster of data (do steps `1` and `2` using *K-Means*, for example).\n",
        "3. Find 2 points ($p_1, p_2$) in the cluster that are the closest to each other. Among $p_1, p_2$ find the one that is the closest to another point in the cluster (not including $p_1$ and $p_2$) and remove this ($p_1$ or $p_2$) point.\n",
        "4. Logically, this will remove the \"mean\" point from the cluster, i.e. the point that is the most represented in the class. In other words, we will not lose much information by removing this point.\n",
        "5. Note that this idea works for **continious** variables.\n",
        "\n",
        "We can do the same if we want to oversample the minority class. That is essentially what *SMOTE* does: \n",
        "1. Selects a random point $x_i$ from the minority class.\n",
        "2. Finds its k-nearest neighbors.\n",
        "4. Randomly selects one of these neighbors, call it $x_{nn}$.\n",
        "5. Computes the difference between the points\n",
        "6. Creates a synthetic point along the line between the original and the neighbor by multiplying the difference by a random number between 0 and 1.\n",
        "7. Again, this strategy works only for **continious** variables.\n",
        "\n",
        "For simplicity we will **undersample** the majority class using the most simple technique, where we randomly discard rows from the given dataframe."
      ]
    },
    {
      "cell_type": "code",
      "execution_count": 12,
      "metadata": {},
      "outputs": [
        {
          "name": "stdout",
          "output_type": "stream",
          "text": [
            "Number of NaNs BEFORE filling missing values in categorical columns: 306899\n",
            "Number of NaNs AFTER filling missing values in categorical columns: 306899\n",
            "Number of categorical columns: 52\n",
            "\n",
            "Target variable distribution BEFORE manual undersampling:\n",
            "TARGET\n",
            "0    279864\n",
            "1     24667\n",
            "Name: count, dtype: int64\n",
            "\n",
            "Target variable distribution AFTER manual undersampling:\n",
            "TARGET\n",
            "1    24667\n",
            "0    24667\n",
            "Name: count, dtype: int64\n",
            "\n",
            "Number of NaN values: 0\n"
          ]
        }
      ],
      "source": [
        "# first we handle NaN values\n",
        "app_train_new = handle_nans(df=app_train_new)\n",
        "print(f\"\\nTarget variable distribution BEFORE manual undersampling:\\n{app_train_new['TARGET'].value_counts()}\")\n",
        "# then we undersample\n",
        "class_0 = app_train_new[app_train_new[\"TARGET\"] == 0]\n",
        "class_1 = app_train_new[app_train_new[\"TARGET\"] == 1]\n",
        "# undersample the majority class\n",
        "class_0_undersampled = class_0.sample(n=len(class_1), random_state=random_state)\n",
        "# combine the undersampled class_0 and class_1\n",
        "app_train_new = pd.concat([class_0_undersampled, class_1])\n",
        "# shuffle the dataset\n",
        "app_train_new = app_train_new.sample(frac=1, random_state=random_state).reset_index(drop=True)\n",
        "print(f\"\\nTarget variable distribution AFTER manual undersampling:\\n{app_train_new['TARGET'].value_counts()}\")\n",
        "print(f\"\\nNumber of NaN values: {app_train_new.isnull().sum().sum()}\")"
      ]
    },
    {
      "cell_type": "markdown",
      "metadata": {},
      "source": [
        "### **6.b** - Fix balance with SMOTE on your previously copied dataframe\n",
        "\n",
        "You can use any external libraries to use SMOTE. We recommend the imbalanced-learn package https://imbalanced-learn.org/stable/over_sampling.html. Make sure to select the appropriate SMOTE variant.\n",
        "\n",
        "**Solution**: Oversampling data using *SMOTE* is a bit tricky in our case, since most of the columns we have are categorical. For the continious variables the idea is rather easy (see above explanation in `6.a`). For categorical variables the idea is almost identical, but instead of computing the typical distance measure during *K-Means*, it computes the *Hamming distance*, and once it has found the K-nearest neighbors of the randomly selected point in the minority class, it randomly selects one of them, and finally randomly picks the value for the generated synthetic point from either $x_i$ or the selected neighbor $x_{nn}$. We will use **SMOTE-NC** algorithm, since it can handle both numerical and categorical columns."
      ]
    },
    {
      "cell_type": "code",
      "execution_count": 13,
      "metadata": {},
      "outputs": [
        {
          "name": "stdout",
          "output_type": "stream",
          "text": [
            "Number of NaNs BEFORE filling missing values in categorical columns: 306899\n",
            "Number of NaNs AFTER filling missing values in categorical columns: 306899\n",
            "Number of categorical columns: 52\n"
          ]
        },
        {
          "data": {
            "text/plain": [
              "SK_ID_CURR                     304531\n",
              "DAYS_BIRTH                      17458\n",
              "DAYS_EMPLOYED                   12556\n",
              "DAYS_ID_PUBLISH                  6167\n",
              "ORGANIZATION_TYPE                  58\n",
              "HOUR_APPR_PROCESS_START            24\n",
              "CNT_CHILDREN                       15\n",
              "NAME_INCOME_TYPE                    8\n",
              "WEEKDAY_APPR_PROCESS_START          7\n",
              "NAME_TYPE_SUITE                     7\n",
              "NAME_HOUSING_TYPE                   6\n",
              "NAME_FAMILY_STATUS                  5\n",
              "NAME_EDUCATION_TYPE                 5\n",
              "REGION_RATING_CLIENT_W_CITY         3\n",
              "CODE_GENDER                         3\n",
              "REGION_RATING_CLIENT                3\n",
              "FLAG_DOCUMENT_7                     2\n",
              "FLAG_DOCUMENT_8                     2\n",
              "FLAG_DOCUMENT_9                     2\n",
              "FLAG_DOCUMENT_10                    2\n",
              "FLAG_DOCUMENT_11                    2\n",
              "FLAG_DOCUMENT_6                     2\n",
              "FLAG_DOCUMENT_16                    2\n",
              "FLAG_DOCUMENT_12                    2\n",
              "FLAG_DOCUMENT_13                    2\n",
              "FLAG_DOCUMENT_14                    2\n",
              "FLAG_DOCUMENT_15                    2\n",
              "FLAG_DOCUMENT_4                     2\n",
              "FLAG_DOCUMENT_17                    2\n",
              "FLAG_DOCUMENT_18                    2\n",
              "FLAG_DOCUMENT_19                    2\n",
              "FLAG_DOCUMENT_20                    2\n",
              "FLAG_DOCUMENT_5                     2\n",
              "REG_REGION_NOT_WORK_REGION          2\n",
              "FLAG_DOCUMENT_3                     2\n",
              "FLAG_DOCUMENT_2                     2\n",
              "NAME_CONTRACT_TYPE                  2\n",
              "FLAG_OWN_CAR                        2\n",
              "FLAG_OWN_REALTY                     2\n",
              "FLAG_EMP_PHONE                      2\n",
              "FLAG_WORK_PHONE                     2\n",
              "FLAG_CONT_MOBILE                    2\n",
              "FLAG_PHONE                          2\n",
              "FLAG_EMAIL                          2\n",
              "REG_REGION_NOT_LIVE_REGION          2\n",
              "TARGET                              2\n",
              "LIVE_REGION_NOT_WORK_REGION         2\n",
              "REG_CITY_NOT_LIVE_CITY              2\n",
              "REG_CITY_NOT_WORK_CITY              2\n",
              "LIVE_CITY_NOT_WORK_CITY             2\n",
              "FLAG_DOCUMENT_21                    2\n",
              "FLAG_MOBIL                          1\n",
              "dtype: int64"
            ]
          },
          "execution_count": 13,
          "metadata": {},
          "output_type": "execute_result"
        }
      ],
      "source": [
        "app_train_before_smote = app_train.copy()\n",
        "# first we remove NaNs\n",
        "app_train_before_smote = handle_nans(df=app_train)\n",
        "# then we analyze categorical variables\n",
        "categorical_features = app_train_before_smote.select_dtypes(include=['object', 'int64', 'bool']).columns.values\n",
        "app_train_before_smote[categorical_features].nunique().sort_values(ascending=False)"
      ]
    },
    {
      "cell_type": "markdown",
      "metadata": {},
      "source": [
        "Luckily, the only 'weird' categorical features are `DAYS_BIRTH`, `DAYS_EMPLOYED` and `DAYS_ID_PUBLISH`. We can actually treat these columns as numerical columns, since all of them are represented in the time domain. We also decide to drop `SK_ID_CURR`, since we do not actually need it."
      ]
    },
    {
      "cell_type": "code",
      "execution_count": 14,
      "metadata": {},
      "outputs": [
        {
          "data": {
            "text/plain": [
              "array(['NAME_CONTRACT_TYPE', 'CODE_GENDER', 'FLAG_OWN_CAR',\n",
              "       'FLAG_OWN_REALTY', 'CNT_CHILDREN', 'NAME_TYPE_SUITE',\n",
              "       'NAME_INCOME_TYPE', 'NAME_EDUCATION_TYPE', 'NAME_FAMILY_STATUS',\n",
              "       'NAME_HOUSING_TYPE', 'FLAG_MOBIL', 'FLAG_EMP_PHONE',\n",
              "       'FLAG_WORK_PHONE', 'FLAG_CONT_MOBILE', 'FLAG_PHONE', 'FLAG_EMAIL',\n",
              "       'REGION_RATING_CLIENT', 'REGION_RATING_CLIENT_W_CITY',\n",
              "       'WEEKDAY_APPR_PROCESS_START', 'HOUR_APPR_PROCESS_START',\n",
              "       'REG_REGION_NOT_LIVE_REGION', 'REG_REGION_NOT_WORK_REGION',\n",
              "       'LIVE_REGION_NOT_WORK_REGION', 'REG_CITY_NOT_LIVE_CITY',\n",
              "       'REG_CITY_NOT_WORK_CITY', 'LIVE_CITY_NOT_WORK_CITY',\n",
              "       'ORGANIZATION_TYPE', 'FLAG_DOCUMENT_2', 'FLAG_DOCUMENT_3',\n",
              "       'FLAG_DOCUMENT_4', 'FLAG_DOCUMENT_5', 'FLAG_DOCUMENT_6',\n",
              "       'FLAG_DOCUMENT_7', 'FLAG_DOCUMENT_8', 'FLAG_DOCUMENT_9',\n",
              "       'FLAG_DOCUMENT_10', 'FLAG_DOCUMENT_11', 'FLAG_DOCUMENT_12',\n",
              "       'FLAG_DOCUMENT_13', 'FLAG_DOCUMENT_14', 'FLAG_DOCUMENT_15',\n",
              "       'FLAG_DOCUMENT_16', 'FLAG_DOCUMENT_17', 'FLAG_DOCUMENT_18',\n",
              "       'FLAG_DOCUMENT_19', 'FLAG_DOCUMENT_20', 'FLAG_DOCUMENT_21'],\n",
              "      dtype=object)"
            ]
          },
          "execution_count": 14,
          "metadata": {},
          "output_type": "execute_result"
        }
      ],
      "source": [
        "app_train_before_smote.drop(['SK_ID_CURR'], axis=1, inplace=True)\n",
        "cats_to_remove = ['TARGET', 'SK_ID_CURR', 'DAYS_BIRTH', 'DAYS_EMPLOYED', 'DAYS_ID_PUBLISH']\n",
        "categorical_features = categorical_features[~np.isin(categorical_features, cats_to_remove)]\n",
        "categorical_features"
      ]
    },
    {
      "cell_type": "code",
      "execution_count": 15,
      "metadata": {},
      "outputs": [
        {
          "name": "stdout",
          "output_type": "stream",
          "text": [
            "Initial data shape: (307511, 122)\n",
            "\n",
            " Target class distribution before SMOTENC upsampling: TARGET\n",
            "0    279864\n",
            "1     24667\n",
            "Name: count, dtype: int64\n",
            "\n",
            " Target class distribution after SMOTENC upsampling: TARGET\n",
            "1    279864\n",
            "0    279864\n",
            "Name: count, dtype: int64\n"
          ]
        }
      ],
      "source": [
        "# features X and target y\n",
        "X = app_train_before_smote.drop(\"TARGET\", axis=1)\n",
        "y = app_train_before_smote['TARGET']\n",
        "# convert categorical feature names to indices, as SMOTENC expects indices\n",
        "categorical_indices = [X.columns.get_loc(col) for col in categorical_features]\n",
        "# apply SMOTE-NC\n",
        "smote_nc = SMOTENC(categorical_features=categorical_indices, random_state=random_state)\n",
        "X_upsampled, y_upsampled = smote_nc.fit_resample(X, y)\n",
        "# create a new DataFrame to store upsampled data\n",
        "app_train_smote = pd.DataFrame(X_upsampled, columns=X.columns)\n",
        "app_train_smote['TARGET'] = y_upsampled\n",
        "print(f\"Initial data shape: {app_train.shape}\")\n",
        "print(f\"\\n Target class distribution before SMOTENC upsampling: {app_train_before_smote['TARGET'].value_counts()}\")\n",
        "print(f\"\\n Target class distribution after SMOTENC upsampling: {app_train_smote['TARGET'].value_counts()}\")\n",
        "print(f\"\\nNumber of NaN values: {app_train_smote.isnull().sum().sum()}\")"
      ]
    },
    {
      "cell_type": "markdown",
      "metadata": {
        "id": "h27ZdP7aloQb"
      },
      "source": [
        "## **7, 8**: Categorical features (9pts)</h2>\n",
        "\n",
        "In `app_test`\n",
        "\n",
        "**7a**: How will you transform the column `NAME_HOUSING_TYPE` in `app_test` be correctly handled by the model? How will you transform `CODE_GENDER` column?\n",
        "\n",
        "**Answer**: `NAME_HOUSING_TYPE` is a categorical variable that has 6 different classes. We can convert these classes into integers, i.e. $0,1,2,3,4,5$, or one-hot encode them, i.e. $[1,0,0,0,0,0], [0,1,0,0,0,0]$, etc. However, using integer encoding can sometimes cause the model to assume a ranking or ordinal relationship between the categories, which is not true in our case. So, we will use one-hot encoding. For `CODE_GENDER` we can use binary encoding, since it is a binary variable, and thus not increase feature space unnecessarily.\n",
        "\n",
        "**7b**: How would you transform the column NAME_HOUSING_TYPE in app_test if you want only 3 categories? Use `LabelEncoder` to transform `FLAG_OWN_CAR` column.\n",
        "\n",
        "**Answer**: to use only $3$ categories for `NAME_HOUSING_TYPE`, we would need to group some categories together. Logically, these categories would be:\n",
        "1. `House / apartment`, `Co-op apartment` - stable housing, usually older people with stable income.\n",
        "2. `With parents` - with parents, mostly young people.\n",
        "3. `Municipal apartment`, `Rented apartment`, `Office apartment` - temporal housing.\n",
        "\n",
        "**7c**: In `ORGANIZATION_TYPE`, only keep the categories that appear in more than 10% of the dataset. Group other categories in one. What is the size of the dummy vector for `ORGANIZATION_TYPE` after this transformation?\n",
        "\n",
        "**Answer**: from the code we get that the size of the dummy vector for `ORGANIZATION_TYPE` after the transformation is $4$, i.e. we transform $58$ categories into $4$ categories.\n",
        "\n",
        "8: In `app_test`, `app_past` and `bureau` transform all the categorical columns that you have not processed in **7** using `One-hot` encoding.\n",
        "\n",
        "**Answer**: see code.\n",
        "\n",
        "*You will be evaluated as follow*\n",
        "* 7: Description of the approach 4pts. Code 3pts.\n",
        "* 8: Correct approach + code 2pts."
      ]
    },
    {
      "cell_type": "markdown",
      "metadata": {},
      "source": [
        "### 7"
      ]
    },
    {
      "cell_type": "code",
      "execution_count": 15,
      "metadata": {},
      "outputs": [
        {
          "name": "stdout",
          "output_type": "stream",
          "text": [
            "NAME_HOUSING_TYPE\n",
            "House / apartment      42753\n",
            "With parents            2193\n",
            "Municipal apartment     1602\n",
            "Rented apartment         705\n",
            "Office apartment         397\n",
            "Co-op apartment          122\n",
            "Name: count, dtype: int64\n",
            "\n",
            "CODE_GENDER\n",
            "F    32021\n",
            "M    15751\n",
            "Name: count, dtype: int64\n",
            "\n",
            "FLAG_OWN_CAR\n",
            "N    31675\n",
            "Y    16097\n",
            "Name: count, dtype: int64\n",
            "\n",
            "ORGANIZATION_TYPE\n",
            "Business Entity Type 3    10620\n",
            "XNA                        9047\n",
            "Self-employed              5810\n",
            "Other                      2654\n",
            "Medicine                   1689\n",
            "Government                 1476\n",
            "Business Entity Type 2     1452\n",
            "Trade: type 7              1275\n",
            "School                     1263\n",
            "Kindergarten               1024\n",
            "Construction               1021\n",
            "Transport: type 4           873\n",
            "Business Entity Type 1      873\n",
            "Trade: type 3               570\n",
            "Military                    519\n",
            "Industry: type 9            491\n",
            "Industry: type 3            477\n",
            "Security                    464\n",
            "Transport: type 2           438\n",
            "Police                      429\n",
            "Housing                     425\n",
            "Industry: type 11           411\n",
            "Bank                        371\n",
            "Security Ministries         334\n",
            "Services                    293\n",
            "Agriculture                 289\n",
            "Postal                      288\n",
            "Restaurant                  281\n",
            "Trade: type 2               238\n",
            "University                  216\n",
            "Industry: type 7            214\n",
            "Industry: type 1            173\n",
            "Industry: type 4            166\n",
            "Transport: type 3           165\n",
            "Electricity                 154\n",
            "Hotel                       130\n",
            "Trade: type 6               118\n",
            "Industry: type 5             95\n",
            "Telecom                      95\n",
            "Emergency                    90\n",
            "Insurance                    79\n",
            "Industry: type 2             76\n",
            "Industry: type 12            75\n",
            "Advertising                  70\n",
            "Realtor                      70\n",
            "Trade: type 1                63\n",
            "Culture                      60\n",
            "Legal Services               53\n",
            "Mobile                       43\n",
            "Cleaning                     43\n",
            "Transport: type 1            35\n",
            "Industry: type 6             26\n",
            "Industry: type 10            24\n",
            "Trade: type 4                14\n",
            "Religion                     12\n",
            "Trade: type 5                 9\n",
            "Industry: type 13             6\n",
            "Industry: type 8              3\n",
            "Name: count, dtype: int64\n",
            "\n",
            "58 classes for ORGANIZATION_TYPE\n"
          ]
        }
      ],
      "source": [
        "print(f\"{app_test['NAME_HOUSING_TYPE'].value_counts()}\\n\")\n",
        "print(f\"{app_test['CODE_GENDER'].value_counts()}\\n\")\n",
        "print(f\"{app_test['FLAG_OWN_CAR'].value_counts()}\\n\")\n",
        "print(f\"{app_test['ORGANIZATION_TYPE'].value_counts()}\\n\")\n",
        "print(f\"{app_test['ORGANIZATION_TYPE'].value_counts().shape[0]} classes for ORGANIZATION_TYPE\")"
      ]
    },
    {
      "cell_type": "code",
      "execution_count": 16,
      "metadata": {},
      "outputs": [],
      "source": [
        "def encodeBinary(df: pd.DataFrame, columns: List[str]) -> pd.DataFrame:\n",
        "    \"\"\"\n",
        "    Encodes binary categorical columns (with two unique values) using LabelEncoder.\n",
        "\n",
        "    Parameters:\n",
        "        - df (pd.DataFrame): Input dataframe containing columns to be binary encoded.\n",
        "        - columns (List[str]): List of column names to be binary encoded.\n",
        "\n",
        "    Returns:\n",
        "        - (pd.DataFrame): DataFrame with specified columns binary encoded (0, 1).\n",
        "    \"\"\"\n",
        "    label_encoder = LabelEncoder()\n",
        "    for column in columns:\n",
        "        df[column] = label_encoder.fit_transform(df[column]).astype(int)\n",
        "    return df\n",
        "\n",
        "def encodeOnehot(df: pd.DataFrame, columns: List[str], prefix: str ='OneHot') -> pd.DataFrame:\n",
        "    \"\"\"\n",
        "    Encodes categorical columns with more than two unique values using one-hot encoding.\n",
        "\n",
        "    Parameters:\n",
        "        - df (pd.DataFrame): Input dataframe containing columns to be one-hot encoded.\n",
        "        - columns (List[str]): List of column names to be one-hot encoded.\n",
        "        - prefix (str): Prefix for new one-hot encoded columns (default is 'OneHot').\n",
        "\n",
        "    Returns:\n",
        "        - (pd.DataFrame): DataFrame with specified columns one-hot encoded.\n",
        "    \"\"\"\n",
        "    df = pd.get_dummies(df, columns=columns, prefix=prefix)\n",
        "    return df"
      ]
    },
    {
      "cell_type": "code",
      "execution_count": 17,
      "metadata": {
        "id": "shlk_faurPh6"
      },
      "outputs": [
        {
          "name": "stdout",
          "output_type": "stream",
          "text": [
            "Original shape: (47772, 71); new shape: (47772, 71)\n"
          ]
        }
      ],
      "source": [
        "app_test_new = app_test.copy()\n",
        "# 7a & 7b & 7c\n",
        "# encoding binary variables CODE_GENDER and FLAG_OWN_CAR\n",
        "app_test_new = encodeBinary(df=app_test_new, columns=['CODE_GENDER', 'FLAG_OWN_CAR']) # 7a & 7b\n",
        "# encoding NAME_HOUSING_TYPE\n",
        "housing_mapping = {\n",
        "    'House / apartment': 'Stable Housing',\n",
        "    'Co-op apartment': 'Stable Housing',\n",
        "    'Rented apartment': 'Rented/Temporary Housing',\n",
        "    'Municipal apartment': 'Rented/Temporary Housing',\n",
        "    'Office apartment': 'Rented/Temporary Housing',\n",
        "    'With parents': 'With parents'\n",
        "} # define mapping for NAME_HOUSING_TYPE to convert from 6 classes to 3\n",
        "# apply the mapping to create a new column with 3 categories\n",
        "app_test_new['NAME_HOUSING_TYPE'] = app_test_new['NAME_HOUSING_TYPE'].map(housing_mapping) # 7a\n",
        "# encoding ORGANIZATION_TYPE\n",
        "# define cut-off threshold\n",
        "threshold = app_test_new.shape[0] * 0.1\n",
        "# count each category \n",
        "org_type_counts = app_test_new['ORGANIZATION_TYPE'].value_counts()\n",
        "# get categories whose count < threshold \n",
        "org_below_threshold = org_type_counts[org_type_counts < threshold].index\n",
        "# replace categoies to 'Other' whose count < threshold\n",
        "app_test_new['ORGANIZATION_TYPE'] = app_test_new['ORGANIZATION_TYPE'].replace(org_below_threshold, 'Other') # 7c\n",
        "\n",
        "print(f\"Original shape: {app_test.shape}; new shape: {app_test_new.shape}\")"
      ]
    },
    {
      "cell_type": "markdown",
      "metadata": {},
      "source": [
        "### 8"
      ]
    },
    {
      "cell_type": "code",
      "execution_count": 18,
      "metadata": {},
      "outputs": [
        {
          "data": {
            "text/plain": [
              "SK_ID_CURR                     47772\n",
              "DAYS_BIRTH                     15412\n",
              "DAYS_EMPLOYED                   7813\n",
              "DAYS_ID_PUBLISH                 5874\n",
              "HOUR_APPR_PROCESS_START           24\n",
              "CNT_CHILDREN                      11\n",
              "WEEKDAY_APPR_PROCESS_START         7\n",
              "NAME_TYPE_SUITE                    7\n",
              "NAME_INCOME_TYPE                   6\n",
              "NAME_EDUCATION_TYPE                5\n",
              "NAME_FAMILY_STATUS                 5\n",
              "REGION_RATING_CLIENT_W_CITY        4\n",
              "ORGANIZATION_TYPE                  4\n",
              "REGION_RATING_CLIENT               3\n",
              "NAME_HOUSING_TYPE                  3\n",
              "FLAG_DOCUMENT_3                    2\n",
              "FLAG_DOCUMENT_4                    2\n",
              "FLAG_DOCUMENT_9                    2\n",
              "FLAG_DOCUMENT_5                    2\n",
              "FLAG_DOCUMENT_6                    2\n",
              "FLAG_DOCUMENT_7                    2\n",
              "FLAG_DOCUMENT_8                    2\n",
              "REG_CITY_NOT_WORK_CITY             2\n",
              "FLAG_DOCUMENT_11                   2\n",
              "FLAG_DOCUMENT_18                   2\n",
              "LIVE_CITY_NOT_WORK_CITY            2\n",
              "LIVE_REGION_NOT_WORK_REGION        2\n",
              "REG_CITY_NOT_LIVE_CITY             2\n",
              "REG_REGION_NOT_WORK_REGION         2\n",
              "REG_REGION_NOT_LIVE_REGION         2\n",
              "FLAG_EMAIL                         2\n",
              "FLAG_PHONE                         2\n",
              "FLAG_CONT_MOBILE                   2\n",
              "FLAG_WORK_PHONE                    2\n",
              "FLAG_EMP_PHONE                     2\n",
              "NAME_CONTRACT_TYPE                 2\n",
              "FLAG_OWN_REALTY                    2\n",
              "FLAG_DOCUMENT_15                   1\n",
              "FLAG_DOCUMENT_20                   1\n",
              "FLAG_DOCUMENT_19                   1\n",
              "FLAG_DOCUMENT_17                   1\n",
              "FLAG_DOCUMENT_16                   1\n",
              "FLAG_MOBIL                         1\n",
              "FLAG_DOCUMENT_14                   1\n",
              "FLAG_DOCUMENT_13                   1\n",
              "FLAG_DOCUMENT_12                   1\n",
              "FLAG_DOCUMENT_10                   1\n",
              "FLAG_DOCUMENT_2                    1\n",
              "FLAG_DOCUMENT_21                   1\n",
              "dtype: int64"
            ]
          },
          "execution_count": 18,
          "metadata": {},
          "output_type": "execute_result"
        }
      ],
      "source": [
        "cols_to_onehot = app_test_new.select_dtypes(include=['object', 'int64']).columns\n",
        "app_test_new[cols_to_onehot].nunique().sort_values(ascending=False)"
      ]
    },
    {
      "cell_type": "code",
      "execution_count": 20,
      "metadata": {},
      "outputs": [
        {
          "data": {
            "text/plain": [
              "CNT_CHILDREN\n",
              "0     33986\n",
              "1      9310\n",
              "2      3883\n",
              "3       523\n",
              "4        49\n",
              "5        12\n",
              "8         3\n",
              "6         3\n",
              "7         1\n",
              "20        1\n",
              "11        1\n",
              "Name: count, dtype: int64"
            ]
          },
          "execution_count": 20,
          "metadata": {},
          "output_type": "execute_result"
        }
      ],
      "source": [
        "app_test_new['CNT_CHILDREN'].value_counts()"
      ]
    },
    {
      "cell_type": "code",
      "execution_count": 21,
      "metadata": {},
      "outputs": [
        {
          "data": {
            "text/plain": [
              "SK_ID_PREV                     1670214\n",
              "SK_ID_CURR                      338857\n",
              "DAYS_DECISION                     2922\n",
              "SELLERPLACE_AREA                  2097\n",
              "NAME_GOODS_CATEGORY                 28\n",
              "NAME_CASH_LOAN_PURPOSE              25\n",
              "HOUR_APPR_PROCESS_START             24\n",
              "PRODUCT_COMBINATION                 17\n",
              "NAME_SELLER_INDUSTRY                11\n",
              "CODE_REJECT_REASON                   9\n",
              "CHANNEL_TYPE                         8\n",
              "NAME_TYPE_SUITE                      7\n",
              "WEEKDAY_APPR_PROCESS_START           7\n",
              "NAME_PORTFOLIO                       5\n",
              "NAME_YIELD_GROUP                     5\n",
              "NAME_CONTRACT_STATUS                 4\n",
              "NAME_PAYMENT_TYPE                    4\n",
              "NAME_CLIENT_TYPE                     4\n",
              "NAME_CONTRACT_TYPE                   4\n",
              "NAME_PRODUCT_TYPE                    3\n",
              "NFLAG_LAST_APPL_IN_DAY               2\n",
              "FLAG_LAST_APPL_PER_CONTRACT          2\n",
              "dtype: int64"
            ]
          },
          "execution_count": 21,
          "metadata": {},
          "output_type": "execute_result"
        }
      ],
      "source": [
        "cat_cols = app_past.select_dtypes(include=['object', 'int64', 'category']).columns\n",
        "app_past[cat_cols].nunique().sort_values(ascending=False)"
      ]
    },
    {
      "cell_type": "code",
      "execution_count": 22,
      "metadata": {},
      "outputs": [
        {
          "data": {
            "text/plain": [
              "SK_ID_BUREAU          1716428\n",
              "SK_ID_CURR             305811\n",
              "DAYS_CREDIT_UPDATE       2982\n",
              "DAYS_CREDIT              2923\n",
              "CREDIT_DAY_OVERDUE        942\n",
              "CREDIT_TYPE                15\n",
              "CNT_CREDIT_PROLONG         10\n",
              "CREDIT_ACTIVE               4\n",
              "CREDIT_CURRENCY             4\n",
              "dtype: int64"
            ]
          },
          "execution_count": 22,
          "metadata": {},
          "output_type": "execute_result"
        }
      ],
      "source": [
        "cat_cols = bureau.select_dtypes(include=['object', 'int64', 'category']).columns\n",
        "bureau[cat_cols].nunique().sort_values(ascending=False)"
      ]
    },
    {
      "cell_type": "markdown",
      "metadata": {},
      "source": [
        "We don't want to convert `SK_ID_CURR`, `DAYS_BIRTH`, `DAYS_EMPLOYED`, `DAYS_ID_PUBLISH`, `HOUR_APPR_PROCESS_START`, `CNT_CHILDREN` (from `app_test`), `SK_ID_PREV`, `DAYS_DECISION`, `SELLERPLACE_AREA` (from `app_past`) and `SK_ID_BUREAU`, `DAYS_CREDIT_UPDATE`, `DAYS_CREDIT`, `CREDIT_DAY_OVERDUE` into onehot vectors (name these columns as `cols_to_exclude`). We also don't want to encode columns that have $1$ unique value and we will binarize columns that have $2$ unique values. We will do the following:\n",
        "1. Transform `CNT_CHILDREN` from $11$ categories into $4$ categories (to increase space efficiency):\n",
        "   1. $0$ children.\n",
        "   2. $1$ child.\n",
        "   3. $2-3$ children.\n",
        "   4. $4+$ children.\n",
        "2. Select columns that have `object`, `int64`, `category` dtypes as categorical. Name these columns as `cat_cols`.\n",
        "3. Exclude `cols_to_exclude` from `cat_cols`.\n",
        "4. Define `to_binarize` (where the number of unique values $== 2$) and `to_onehot` (where the number of unique values $> 2$) using `cat_cols`.\n",
        "5. Binarize and onehot columns of the given dataframe."
      ]
    },
    {
      "cell_type": "code",
      "execution_count": 19,
      "metadata": {},
      "outputs": [],
      "source": [
        "def transformChildren(df: pd.DataFrame):\n",
        "    \"\"\"\n",
        "    Transforms the 'CNT_CHILDREN' column into categorical bins.\n",
        "\n",
        "    Parameters:\n",
        "        - df (pd.DataFrame): Input dataframe containing the 'CNT_CHILDREN' column.\n",
        "\n",
        "    Returns:\n",
        "        - (pd.DataFrame): DataFrame with 'CNT_CHILDREN' transformed into categorical bins.\n",
        "    \"\"\"\n",
        "    df_ = df.copy()\n",
        "    bins = [-1, 0, 1, 3, float('inf')]  # ranges: -1-0, 1-2, 3-4, 5+\n",
        "    labels = ['0 children', '1 child', '2-3 children', '4+ children']\n",
        "    df_['CNT_CHILDREN'] = pd.cut(df_['CNT_CHILDREN'], bins=bins, labels=labels)\n",
        "    return df_\n",
        "\n",
        "def handleCategorical(df: pd.DataFrame) -> pd.DataFrame:\n",
        "    \"\"\"\n",
        "    Handles categorical variables in a DataFrame by:\n",
        "    1. Transforming 'CNT_CHILDREN' into categorical bins.\n",
        "    2. Identifying binary columns (for LabelEncoder) and columns for one-hot encoding.\n",
        "    3. Encoding the binary columns and one-hot encoding the rest.\n",
        "\n",
        "    Parameters:\n",
        "        - df (pd.DataFrame): Input dataframe with categorical variables.\n",
        "\n",
        "    Returns:\n",
        "        - df (pd.DataFrame): DataFrame with binary and one-hot encoded columns.\n",
        "    \"\"\"\n",
        "    # 1. transform CNT_CHILDREN into categorical variable\n",
        "    if \"CNT_CHILDREN\" in df.columns:\n",
        "        df = transformChildren(df=df)\n",
        "    # 2. get categorical columns: onehot columns and binary columns\n",
        "    cat_cols = df.select_dtypes(include=['object', 'int64', 'category']).columns\n",
        "    cols_to_exclude = [\n",
        "        'SK_ID_CURR', 'DAYS_BIRTH', 'DAYS_EMPLOYED', 'DAYS_ID_PUBLISH', 'HOUR_APPR_PROCESS_START', \n",
        "        'SK_ID_PREV', 'DAYS_DECISION', 'SELLERPLACE_AREA',\n",
        "        'SK_ID_BUREAU', 'DAYS_CREDIT_UPDATE', 'DAYS_CREDIT', 'CREDIT_DAY_OVERDUE']\n",
        "    # filter out excluded columns\n",
        "    cat_cols = cat_cols[~np.isin(cat_cols, cols_to_exclude)]\n",
        "    # define columns to binarize and one-hot encode\n",
        "    to_binarize = [col for col in cat_cols if df[col].nunique() == 2]\n",
        "    to_onehot = [col for col in cat_cols if df[col].nunique() > 2]\n",
        "    # 3. encode data\n",
        "    df = encodeBinary(df=df, columns=to_binarize)\n",
        "    df = encodeOnehot(df=df, columns=to_onehot)\n",
        "    return df"
      ]
    },
    {
      "cell_type": "code",
      "execution_count": 20,
      "metadata": {},
      "outputs": [
        {
          "name": "stdout",
          "output_type": "stream",
          "text": [
            "app_test_new shape BEFORE binarization and onehot encoding: (47772, 71)\n",
            "app_past shape BEFORE binarization and onehot encoding: (1670214, 37)\n",
            "bureau shape BEFORE binarization and onehot encoding: (1716428, 17)\n",
            "app_test_new shape AFTER binarization and onehot encoding: (47772, 109)\n",
            "app_past shape AFTER binarization and onehot encoding: (1670214, 163)\n",
            "bureau shape AFTER binarization and onehot encoding: (1716428, 46)\n"
          ]
        }
      ],
      "source": [
        "print(f\"app_test_new shape BEFORE binarization and onehot encoding: {app_test_new.shape}\")\n",
        "print(f\"app_past shape BEFORE binarization and onehot encoding: {app_past.shape}\")\n",
        "print(f\"bureau shape BEFORE binarization and onehot encoding: {bureau.shape}\")\n",
        "app_test_new = handleCategorical(df=app_test_new)\n",
        "app_past = handleCategorical(df=app_past)\n",
        "bureau = handleCategorical(df=bureau)\n",
        "print(f\"app_test_new shape AFTER binarization and onehot encoding: {app_test_new.shape}\")\n",
        "print(f\"app_past shape AFTER binarization and onehot encoding: {app_past.shape}\")\n",
        "print(f\"bureau shape AFTER binarization and onehot encoding: {bureau.shape}\")"
      ]
    },
    {
      "cell_type": "markdown",
      "metadata": {
        "id": "ufWJR8ScnHb4"
      },
      "source": [
        "## **9, 10**: Anomalies (7 pts)\n",
        "\n",
        "**9**: In app_test:\n",
        "- **9a**: Is there an anomaly with the column DEF_30_CNT_SOCIAL_CIRCLE? If so, how would you solve it?\n",
        "- **9b**: Is there an anomaly with the column LANDAREA_AVG? If so, how would you solve it?\n",
        "- **9c**: Is there an anomaly with the column AMT_INCOME_TOTAL? If so, how would you solve it?\n",
        "\n",
        "**10**: Fix the anomaly in DAYS_EMPLOYED\n",
        "\n",
        "*You will be evaluated as follow*\n",
        "* 9: Description of the approach + code 5pts.\n",
        "* 10: code 2pts"
      ]
    },
    {
      "cell_type": "markdown",
      "metadata": {},
      "source": [
        "### **9**"
      ]
    },
    {
      "cell_type": "code",
      "execution_count": 79,
      "metadata": {},
      "outputs": [],
      "source": [
        "app_test = pd.read_csv(src_test, compression=\"zip\")"
      ]
    },
    {
      "cell_type": "code",
      "execution_count": 46,
      "metadata": {
        "id": "I5TcZk8Q5jQ-"
      },
      "outputs": [
        {
          "data": {
            "text/plain": [
              "DEF_30_CNT_SOCIAL_CIRCLE\n",
              "0.0     43195\n",
              "1.0      4443\n",
              "2.0       834\n",
              "3.0       189\n",
              "4.0        40\n",
              "5.0         8\n",
              "6.0         3\n",
              "34.0        3\n",
              "Name: count, dtype: int64"
            ]
          },
          "execution_count": 46,
          "metadata": {},
          "output_type": "execute_result"
        }
      ],
      "source": [
        "app_test['DEF_30_CNT_SOCIAL_CIRCLE'].value_counts()"
      ]
    },
    {
      "cell_type": "markdown",
      "metadata": {},
      "source": [
        "There appears to be a potential anomaly with the value $34.0$. Given the surrounding values ($0.0-6.0$), this large number seems out of place and may be a result of data entry error or an outlier. We can remove this value by either:\n",
        "- Cap the values at $6$ (thus changing $7$ to $6$).\n",
        "- Removing rows that contain this value, which is just $3$ rows.\n",
        "\n",
        "I would cap the values at $6$ to preserve information."
      ]
    },
    {
      "cell_type": "code",
      "execution_count": 48,
      "metadata": {},
      "outputs": [
        {
          "data": {
            "text/plain": [
              "LANDAREA_AVG\n",
              "0.0000    2656\n",
              "0.0141      37\n",
              "0.0114      33\n",
              "0.0158      33\n",
              "0.0221      32\n",
              "          ... \n",
              "0.3570       1\n",
              "0.3172       1\n",
              "0.2665       1\n",
              "0.1778       1\n",
              "0.2084       1\n",
              "Name: count, Length: 2540, dtype: int64"
            ]
          },
          "execution_count": 48,
          "metadata": {},
          "output_type": "execute_result"
        }
      ],
      "source": [
        "app_test['LANDAREA_AVG'].value_counts()"
      ]
    },
    {
      "cell_type": "markdown",
      "metadata": {},
      "source": [
        "A lot of values in `LANDAREA_AVG` are $0.0$, which mostly means that the information is missing. Since we will use *Random Forest* model, I believe the best solution in this case would be to keep $0.0$ values as placeholders for *missing* values. This way we will let the model decide how to interpret $0.0$ for `LANDAREA_AVG` and then define splitting based on this value."
      ]
    },
    {
      "cell_type": "markdown",
      "metadata": {},
      "source": [
        "There is no such column as `LANDAREA_AVG` in `app_test`."
      ]
    },
    {
      "cell_type": "code",
      "execution_count": 36,
      "metadata": {},
      "outputs": [
        {
          "data": {
            "text/plain": [
              "AMT_INCOME_TOTAL\n",
              "135000.0    5457\n",
              "112500.0    4753\n",
              "157500.0    4327\n",
              "180000.0    4128\n",
              "225000.0    3701\n",
              "            ... \n",
              "91935.0        1\n",
              "146475.0       1\n",
              "200250.0       1\n",
              "62550.0        1\n",
              "161244.0       1\n",
              "Name: count, Length: 599, dtype: int64"
            ]
          },
          "execution_count": 36,
          "metadata": {},
          "output_type": "execute_result"
        }
      ],
      "source": [
        "app_test['AMT_INCOME_TOTAL'].value_counts()"
      ]
    },
    {
      "cell_type": "code",
      "execution_count": 37,
      "metadata": {},
      "outputs": [
        {
          "data": {
            "text/plain": [
              "[<matplotlib.lines.Line2D at 0x1eab626d6a0>]"
            ]
          },
          "execution_count": 37,
          "metadata": {},
          "output_type": "execute_result"
        },
        {
          "data": {
            "image/png": "[encoded data removed]",
            "text/plain": [
              "<Figure size 640x480 with 1 Axes>"
            ]
          },
          "metadata": {},
          "output_type": "display_data"
        }
      ],
      "source": [
        "plt.plot(app_test_new['AMT_INCOME_TOTAL'].values)"
      ]
    },
    {
      "cell_type": "markdown",
      "metadata": {},
      "source": [
        "Some values in `AMT_INCOME_TOTAL` seem unusually precise. It would be best to round highly precise values to the nearest $500$ or $1000$, as most other values are rounded."
      ]
    },
    {
      "cell_type": "markdown",
      "metadata": {},
      "source": [
        "### **10**"
      ]
    },
    {
      "cell_type": "code",
      "execution_count": 50,
      "metadata": {},
      "outputs": [
        {
          "data": {
            "text/plain": [
              "DAYS_EMPLOYED\n",
              "-17463        1\n",
              "-17124        1\n",
              "-17077        1\n",
              "-16774        1\n",
              "-16547        1\n",
              "           ... \n",
              "-16           1\n",
              "-14           1\n",
              "-5            1\n",
              "-1            1\n",
              " 365243    9274\n",
              "Name: count, Length: 7863, dtype: int64"
            ]
          },
          "execution_count": 50,
          "metadata": {},
          "output_type": "execute_result"
        }
      ],
      "source": [
        "app_test['DAYS_EMPLOYED'].value_counts().sort_index()"
      ]
    },
    {
      "cell_type": "markdown",
      "metadata": {},
      "source": [
        "Value **365243**, which appears **9047** times is an anomaly. It likely an indicator of missing or undefined employment information. Again, since we will use *Random Forest* model, I believe the best solution in this case would be to keep the value $365243$ as it is, or change it to $0$ as a placeholder value, and let the model itself decide how to interpret this value."
      ]
    },
    {
      "cell_type": "code",
      "execution_count": 51,
      "metadata": {},
      "outputs": [
        {
          "data": {
            "text/plain": [
              "DAYS_EMPLOYED\n",
              "-17463       1\n",
              "-17124       1\n",
              "-17077       1\n",
              "-16774       1\n",
              "-16547       1\n",
              "          ... \n",
              "-16          1\n",
              "-14          1\n",
              "-5           1\n",
              "-1           1\n",
              " 0        9274\n",
              "Name: count, Length: 7863, dtype: int64"
            ]
          },
          "execution_count": 51,
          "metadata": {},
          "output_type": "execute_result"
        }
      ],
      "source": [
        "app_test['DAYS_EMPLOYED'] = app_test['DAYS_EMPLOYED'].replace(365243, 0)\n",
        "app_test['DAYS_EMPLOYED'].value_counts().sort_index()"
      ]
    },
    {
      "cell_type": "markdown",
      "metadata": {
        "id": "DgQ2i5B25lRC"
      },
      "source": [
        "## **11, 12**: Correlations (9 pts)\n",
        "\n",
        "\n",
        "**11**: In `app_test`, remove the collinear features of the dataset. How did you choose the threshold?\n",
        "\n",
        "**12**: What features from `bureau.csv` could you use to improve the training set? Use the random forest model from the notebook of the Lecture to check if it actually improves the final model performance.\n",
        "\n",
        "*You will be evaluated as follow*\n",
        "* 11: Code 3pts. Threshold explanation 1pt.\n",
        "* 12: Description of the approach 1pt. Code implementation of the approach 2pts. Improved performance 2pts."
      ]
    },
    {
      "cell_type": "markdown",
      "metadata": {},
      "source": [
        "### **11**"
      ]
    },
    {
      "cell_type": "code",
      "execution_count": 56,
      "metadata": {},
      "outputs": [
        {
          "data": {
            "text/plain": [
              "[dtype('int64'), dtype('O'), dtype('float64')]"
            ]
          },
          "execution_count": 56,
          "metadata": {},
          "output_type": "execute_result"
        }
      ],
      "source": [
        "types = []\n",
        "for col in app_test.columns:\n",
        "    dt = app_test[col].dtype\n",
        "    if dt not in types:\n",
        "        types.append(dt)\n",
        "types"
      ]
    },
    {
      "cell_type": "code",
      "execution_count": 81,
      "metadata": {
        "id": "uU1j3LW2S-ir"
      },
      "outputs": [],
      "source": [
        "def remove_collinear_features(df: pd.DataFrame, threshold: float = 0.85) -> Tuple[pd.DataFrame, List]:\n",
        "    \"\"\"\n",
        "    Removes collinear features from the DataFrame based on a given correlation threshold.\n",
        "    \n",
        "    Parameters:\n",
        "        - df (pd.DataFrame): The input DataFrame.\n",
        "        - threshold (float): The correlation threshold for removing features.\n",
        "    \n",
        "    Returns:\n",
        "        - Tuple[df (pd.DataFrame), to_drop (List)]: DataFrame with collinear features removed and list of columns that were removed.\n",
        "    \"\"\"\n",
        "    # exclude categorical columns\n",
        "    num_cols = df.select_dtypes(include=['float64', 'int64']).columns\n",
        "    # compute the correlation matrix\n",
        "    corr_matrix = df[num_cols].corr().abs()\n",
        "    # select upper triangle of correlation matrix\n",
        "    upper = corr_matrix.where(np.triu(np.ones(corr_matrix.shape), k=1).astype(bool))\n",
        "    # find features with correlation greater than the threshold\n",
        "    to_drop = [column for column in upper.columns if any(upper[column] > threshold)]\n",
        "    # drop the features\n",
        "    df = df.drop(to_drop, axis=1)\n",
        "    return df, to_drop"
      ]
    },
    {
      "cell_type": "code",
      "execution_count": 88,
      "metadata": {},
      "outputs": [
        {
          "name": "stdout",
          "output_type": "stream",
          "text": [
            "Threshold: 0.95; Columns removed: 31\n",
            "Threshold: 0.9; Columns removed: 35\n",
            "Threshold: 0.85; Columns removed: 37\n",
            "Threshold: 0.8; Columns removed: 40\n",
            "Threshold: 0.75; Columns removed: 41\n",
            "Threshold: 0.7; Columns removed: 42\n"
          ]
        }
      ],
      "source": [
        "thresholds = [0.95, 0.9, 0.85, 0.8, 0.75, 0.7]\n",
        "for threshold in thresholds:\n",
        "    app_test_11 = app_test.copy()\n",
        "    len_before = len(app_test.select_dtypes(include=['float64', 'int64']).columns)\n",
        "    app_test_11, dropped_columns = remove_collinear_features(df=app_test_11, threshold=threshold)\n",
        "    len_after = len(app_test_11.select_dtypes(include=['float64', 'int64']).columns)\n",
        "    print(f\"Threshold: {threshold}; Columns removed: {len_before - len_after}\")"
      ]
    },
    {
      "cell_type": "markdown",
      "metadata": {},
      "source": [
        "The best way to choose *threshold* is to train models on different *train* sets which were constructed using different threshold values. Then evaluate models on the *test* set and see which model performs best or is faster to train / make inference relative to the dataset size.\n",
        "\n",
        "Still, threshold values of `0.7`, `0.75` and `0.8` seems to low and we might lose valuable information with them. Threshold values of `0.95` or `0.9` seem rather too generous. So, we are left with `0.85`, which seems the best and removes $37$ collinear columns."
      ]
    },
    {
      "cell_type": "markdown",
      "metadata": {},
      "source": [
        "### **12**\n",
        "\n",
        "1. Train & evaluate a `Random Forest` model on the training set.\n",
        "1. Choose a set of features from `bureau` and incorporate them into the training set.\n",
        "2. See if the model perfomance increases."
      ]
    },
    {
      "cell_type": "markdown",
      "metadata": {},
      "source": [
        "We will be training our model on `app_train_new`, which is:\n",
        "1. Downsampled majority class.\n",
        "2. No `NaN` values.\n",
        "\n",
        "We need to preprocess the training data:\n",
        "1. Handle categorical features.\n",
        "2. Change $365243$ to $0$ in `DAYS_EMPLOYED`.\n",
        "3. Remove collinear features with threshold $0.85$ on **train** data, since testing for collinearity on the test data could lead to data leakage."
      ]
    },
    {
      "cell_type": "code",
      "execution_count": null,
      "metadata": {},
      "outputs": [],
      "source": []
    },
    {
      "cell_type": "markdown",
      "metadata": {
        "id": "7_fQJhfcyQWn"
      },
      "source": [
        "##  **13**: Class imbalance and model performances (6 points)\n",
        "\n",
        "\n",
        "**13**: Evaluate the other technique (SMOTE) to handeling imbalance data left in **6.b**. Does it makes a difference on the final model performance? Can you use the performance on the test set to choose which techniques to use? If not, what would you need to do so?\n",
        "\n",
        "*You will be evaluated as follow*\n",
        "* 13: Code 3pts. Explanation 3pts.\n"
      ]
    },
    {
      "cell_type": "code",
      "execution_count": null,
      "metadata": {
        "id": "jDR7b8VRyUkS"
      },
      "outputs": [],
      "source": [
        "## Your code here"
      ]
    },
    {
      "cell_type": "markdown",
      "metadata": {
        "id": "-kxXg4CA3nPO"
      },
      "source": [
        "**13**: Answer the question here (double click to edit a text cell)\n",
        "\n"
      ]
    }
  ],
  "metadata": {
    "colab": {
      "provenance": []
    },
    "kernelspec": {
      "display_name": "Python 3",
      "name": "python3"
    },
    "language_info": {
      "codemirror_mode": {
        "name": "ipython",
        "version": 3
      },
      "file_extension": ".py",
      "mimetype": "text/x-python",
      "name": "python",
      "nbconvert_exporter": "python",
      "pygments_lexer": "ipython3",
      "version": "3.9.19"
    }
  },
  "nbformat": 4,
  "nbformat_minor": 0
}
